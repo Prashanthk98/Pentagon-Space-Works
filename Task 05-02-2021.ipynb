{
 "cells": [
  {
   "cell_type": "markdown",
   "metadata": {},
   "source": [
    "1.Write a function in python to find the Even values from dataset accepted [54,48,80] values\n",
    "    dataset = [44, 45, 46, 47, 48, 49, 50, 51, 52, 53,58,78, 79, 80,34,34,34,45,45]"
   ]
  },
  {
   "cell_type": "code",
   "execution_count": 2,
   "metadata": {},
   "outputs": [
    {
     "name": "stdout",
     "output_type": "stream",
     "text": [
      "[44, 46, 48, 50, 52, 58, 78, 80, 34, 34, 34]\n"
     ]
    }
   ],
   "source": [
    "dataset = [44, 45, 46, 47, 48, 49, 50, 51, 52, 53,58,78, 79, 80,34,34,34,45,45]\n",
    "even=[i for i in dataset if i%2==0]\n",
    "print(even)"
   ]
  },
  {
   "cell_type": "markdown",
   "metadata": {},
   "source": [
    "2.Write a function in python to find 2rd maximum values from dataset\n",
    "    dataset = [20,67,3,2.6,7,74,2.8,90.8,52.8,4,3,2,5,7]"
   ]
  },
  {
   "cell_type": "code",
   "execution_count": 5,
   "metadata": {},
   "outputs": [
    {
     "name": "stdout",
     "output_type": "stream",
     "text": [
      "74\n"
     ]
    }
   ],
   "source": [
    "dataset = [20,67,3,2.6,7,74,2.8,90.8,52.8,4,3,2,5,7]\n",
    "sorting= sorted(dataset)\n",
    "print(sorting[-2])"
   ]
  },
  {
   "cell_type": "markdown",
   "metadata": {},
   "source": [
    "3.Suppose you want to purchase one mobile phone from mobil shop perform following operations with the help of list tuple,dictionary\n",
    "\n",
    "\ta. Display list of mobile phone with price\n",
    "\tb. Calculate Price of according to total no of mobile phone purchased by customer\n",
    "\tc. Display updated list of Mobile phone with price\n"
   ]
  },
  {
   "cell_type": "code",
   "execution_count": 11,
   "metadata": {},
   "outputs": [
    {
     "name": "stdout",
     "output_type": "stream",
     "text": [
      "{'samsung': 25000, 'apple': 30000, 'oneplus': 20000, 'sony': 15000}\n",
      "Enter the mobile phones purchasedoneplus apple\n",
      "oneplus : 20000\n",
      "apple : 30000\n",
      "Total cost of the mobiles is  50000\n"
     ]
    }
   ],
   "source": [
    "mobile={'samsung' : 25000,\n",
    "       'apple': 30000,\n",
    "       'oneplus' : 20000,\n",
    "       'sony' : 15000}\n",
    "print(mobile)\n",
    "\n",
    "l=input(\"Enter the mobile phones purchased\").split()\n",
    "purchased=list(l)\n",
    "total_cost=0\n",
    "for i in purchased:\n",
    "    total_cost+=mobile[i]\n",
    "\n",
    "for i in purchased:\n",
    "    print(\"{} : {}\".format(i,mobile[i]))\n",
    "\n",
    "print(\"Total cost of the mobiles is \",total_cost)    "
   ]
  },
  {
   "cell_type": "markdown",
   "metadata": {},
   "source": [
    "4. write a function in python to remove duplicates from a list.\n",
    "    number = [23,45,67,78,'Hello',34.34,34j,'Python',34,45.6,'ML',78,'Hello',34.34,34j]"
   ]
  },
  {
   "cell_type": "code",
   "execution_count": 17,
   "metadata": {},
   "outputs": [
    {
     "name": "stdout",
     "output_type": "stream",
     "text": [
      "{'ML', 34.34, 67, 34, 34j, 'Python', 'Hello', 45, 78, 45.6, 23}\n"
     ]
    }
   ],
   "source": [
    "l=[23,45,67,78,'Hello',34.34,34j,'Python',34,45.6,'ML',78,'Hello',34.34,34j]\n",
    "res=set(l)\n",
    "print(res)"
   ]
  },
  {
   "cell_type": "markdown",
   "metadata": {},
   "source": [
    "5. write a function in python to sort a list of numbers without using built-in functions\n",
    "    dataset = [44, 45, 46, 47, 48, 49, 50, 51, 52, 53, 54,79, 80,34,34,34,45,45]"
   ]
  },
  {
   "cell_type": "code",
   "execution_count": 1,
   "metadata": {},
   "outputs": [
    {
     "name": "stdout",
     "output_type": "stream",
     "text": [
      "[34, 34, 34, 44, 45, 45, 45, 46, 47, 48, 49, 50, 51, 52, 53, 54, 79, 80]\n"
     ]
    }
   ],
   "source": [
    "l=[44, 45, 46, 47, 48, 49, 50, 51, 52, 53, 54,79, 80,34,34,34,45,45]\n",
    "res=[]\n",
    "while l:\n",
    "    min=l[0]\n",
    "    for j in l:\n",
    "        if j<min:\n",
    "            min=j\n",
    "    res.append(min)\n",
    "    l.remove(min)\n",
    "print(res)    \n",
    "    \n",
    "    "
   ]
  },
  {
   "cell_type": "markdown",
   "metadata": {},
   "source": [
    "6. Write a program that allows the user to enter any number of decimal numbers.\n",
    "    Then the program should print the three highest numbers sorted by the highest number first.\n",
    "    When entering the numbers, you must be able to type 'x' to end the entry.\n",
    "\n",
    "\tExemple of how it may look is:\n",
    "\tGive a decimal number: 3\n",
    "\tGive a decimal number: 2\n",
    "\tGive a decimal number 12\n",
    "\tGive a decimal number: 88\n",
    "\tThree highest number are:\n",
    "\t----output----\n",
    "\t88\n",
    "\t12\n",
    "\t3"
   ]
  },
  {
   "cell_type": "code",
   "execution_count": 41,
   "metadata": {},
   "outputs": [
    {
     "name": "stdout",
     "output_type": "stream",
     "text": [
      "Enter the number\n",
      "5\n",
      "Enter the number\n",
      "6\n",
      "Enter the number\n",
      "7\n",
      "Enter the number\n",
      "8\n",
      "Enter the number\n",
      "9\n",
      "Enter the number\n",
      "x\n",
      "Three Greatest Numbers are\n",
      "9\n",
      "8\n",
      "7\n"
     ]
    }
   ],
   "source": [
    "i=1\n",
    "l=[]\n",
    "while i==True:\n",
    "    print(\"Enter the number\")\n",
    "    n=input()\n",
    "    if n.isdigit():\n",
    "        l.append(n)\n",
    "    if n=='x':\n",
    "        break\n",
    "        \n",
    "s=sorted(l)\n",
    "res=s[-3:]\n",
    "resulted=sorted(res,reverse=True)\n",
    "print(\"Three Greatest Numbers are\")\n",
    "for i in resulted:\n",
    "    print(i)"
   ]
  },
  {
   "cell_type": "markdown",
   "metadata": {},
   "source": [
    "7.Write a Python program to guess a number between 1 to 15\n",
    "    Note : User is prompted to enter a guess. If the user guesses wrong then the prompt appears again until the \n",
    "           guess is correct, on successful guess, user will get a \"Well guessed!\" message, and the program will exit.\n"
   ]
  },
  {
   "cell_type": "code",
   "execution_count": null,
   "metadata": {},
   "outputs": [
    {
     "name": "stdout",
     "output_type": "stream",
     "text": [
      "Enter the number\n",
      "5\n",
      "Enter the number\n",
      "6\n",
      "Enter the number\n",
      "8\n",
      "Enter the number\n",
      "10\n",
      "Enter the number\n",
      "11\n",
      "Enter the number\n",
      "23\n",
      "Enter the number\n",
      "15\n",
      "Enter the number\n",
      "12\n",
      "Enter the number\n"
     ]
    }
   ],
   "source": [
    "import random\n",
    "guessnum=random.randint(1,15)\n",
    "while guessnum= True:\n",
    "    num=int(input(\"Enter the number\"))\n",
    "    print(\"Enter the number\")\n",
    "    num=int(input())\n",
    "\n",
    "print(\"Well Guessed\")    "
   ]
  },
  {
   "cell_type": "code",
   "execution_count": 16,
   "metadata": {},
   "outputs": [
    {
     "name": "stdout",
     "output_type": "stream",
     "text": [
      "1\n",
      "2\n",
      "3\n",
      "4\n",
      "5\n",
      "6\n",
      "7\n",
      "8\n",
      "9\n",
      "10\n",
      "11\n",
      "12\n",
      "13\n",
      "14\n",
      "15\n",
      "16\n",
      "17\n",
      "18\n",
      "19\n",
      "20\n"
     ]
    }
   ],
   "source": []
  },
  {
   "cell_type": "code",
   "execution_count": null,
   "metadata": {},
   "outputs": [],
   "source": []
  }
 ],
 "metadata": {
  "kernelspec": {
   "display_name": "Python 3",
   "language": "python",
   "name": "python3"
  },
  "language_info": {
   "codemirror_mode": {
    "name": "ipython",
    "version": 3
   },
   "file_extension": ".py",
   "mimetype": "text/x-python",
   "name": "python",
   "nbconvert_exporter": "python",
   "pygments_lexer": "ipython3",
   "version": "3.7.6"
  }
 },
 "nbformat": 4,
 "nbformat_minor": 5
}
