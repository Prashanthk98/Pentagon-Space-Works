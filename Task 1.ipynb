{
 "cells": [
  {
   "cell_type": "markdown",
   "metadata": {},
   "source": [
    "#### Q1. Write a function in python to find the Even values from dataset accepted [54,48,80] values\n",
    "     dataset = [44, 45, 46, 47, 48, 49, 50, 51, 52, 53,58,78, 79, 80,34,34,34,45,45]\n"
   ]
  },
  {
   "cell_type": "code",
   "execution_count": 9,
   "metadata": {},
   "outputs": [
    {
     "name": "stdout",
     "output_type": "stream",
     "text": [
      "[44, 45, 46, 47, 48, 49, 50, 54, 51, 52, 53, 58, 78, 79, 80, 34]\n"
     ]
    }
   ],
   "source": [
    "l= [44, 45, 46, 47, 48, 49, 50,54,51, 52, 53,58,78, 79, 80,34,34,34,45]\n",
    "def evn(l):\n",
    "    evn = [l[0]]\n",
    "    for i in l:\n",
    "        if i in evn:\n",
    "            continue\n",
    "        else:\n",
    "            evn.append(i)\n",
    "    print(evn)\n",
    "evn(l)"
   ]
  },
  {
   "cell_type": "markdown",
   "metadata": {},
   "source": [
    "#### Q2. Write a function in python to find 2nd maximum values from dataset\n",
    "     dataset = [20,67,3,2.6,7,74,2.8,90.8,52.8,4,3,2,5,7]\n"
   ]
  },
  {
   "cell_type": "code",
   "execution_count": 7,
   "metadata": {},
   "outputs": [
    {
     "name": "stdout",
     "output_type": "stream",
     "text": [
      "[90.8, 74, 67, 52.8, 20, 7, 7, 5, 4, 3, 3, 2.8, 2.6, 2]\n",
      "\n",
      "The 2nd maximum values from dataset is: 74\n"
     ]
    }
   ],
   "source": [
    "data = [20,67,3,2.6,7,74,2.8,90.8,52.8,4,3,2,5,7]\n",
    "def max2(l):\n",
    "    new_list = []\n",
    "    while data:\n",
    "        max_value = data[0]\n",
    "        for i in data:\n",
    "            if i > max_value:\n",
    "                max_value = i\n",
    "        data.remove(max_value)\n",
    "        new_list.append(max_value)\n",
    "    print(new_list)\n",
    "    print()\n",
    "    print(\"The 2nd maximum values from dataset is: {}\".format(new_list[1]))\n",
    "max2(data)   "
   ]
  },
  {
   "cell_type": "markdown",
   "metadata": {},
   "source": [
    "#### Q3. Suppose you want to purchase one mobile phone from mobil shop perform following operations                   with the help of list tuple,dictionary\n",
    "\ta. Display list of mobile phone with price\n",
    "\tb. Calculate Price of according to total no of mobile phone purchased by customer\n",
    "\tc. Display updated list of Mobile phone with price"
   ]
  },
  {
   "cell_type": "code",
   "execution_count": 10,
   "metadata": {},
   "outputs": [
    {
     "name": "stdout",
     "output_type": "stream",
     "text": [
      "{'samsung': 25000, 'apple': 30000, 'oneplus': 20000, 'sony': 15000}\n",
      "Enter the mobile phones purchasedapple sony\n",
      "apple : 30000\n",
      "sony : 15000\n",
      "Total cost of the mobiles is  45000\n"
     ]
    }
   ],
   "source": [
    "mobile={'samsung' : 25000,\n",
    "       'apple': 30000,\n",
    "       'oneplus' : 20000,\n",
    "       'sony' : 15000}\n",
    "print(mobile)\n",
    "\n",
    "l=input(\"Enter the mobile phones purchased\").split()\n",
    "purchased=list(l)\n",
    "total_cost=0\n",
    "for i in purchased:\n",
    "    total_cost+=mobile[i]\n",
    "\n",
    "for i in purchased:\n",
    "    print(\"{} : {}\".format(i,mobile[i]))\n",
    "\n",
    "print(\"Total cost of the mobiles is \",total_cost)    "
   ]
  },
  {
   "cell_type": "markdown",
   "metadata": {},
   "source": [
    "#### Q4. Write a function in python to remove duplicates from a list.\n",
    "    number = [23,45,67,78,'Hello',34.34,34j,'Python',34,45.6,'ML',78,'Hello',34.34,34j]"
   ]
  },
  {
   "cell_type": "code",
   "execution_count": 12,
   "metadata": {},
   "outputs": [
    {
     "name": "stdout",
     "output_type": "stream",
     "text": [
      "After removing Duplicates:\n",
      " [34.34, 67, 34, 'ML', 34j, 'Python', 45, 78, 45.6, 23, 'Hello']\n",
      "[23, 45, 67, 78, 'Hello', 34.34, 34j, 'Python', 34, 45.6, 'ML']\n"
     ]
    }
   ],
   "source": [
    "number = [23,45,67,78,'Hello',34.34,34j,'Python',34,45.6,'ML',78,'Hello',34.34,34j]\n",
    "def remove_dup(n):    \n",
    "    no_dup_set = set(n)\n",
    "    no_dup_list = list(no_dup_set)\n",
    "    print(\"After removing Duplicates:\\n\",no_dup_list)\n",
    "remove_dup(number)\n",
    "\n",
    "def dup(l):\n",
    "    dup1 = [l[0]]\n",
    "    for i in l:\n",
    "        if i in dup1:\n",
    "            continue\n",
    "        else:\n",
    "            dup1.append(i)\n",
    "    print(dup1)\n",
    "dup(number)\n"
   ]
  },
  {
   "cell_type": "markdown",
   "metadata": {},
   "source": [
    "#### Q5. write a function in python to sort a list of numbers without using built-in functions\n",
    "    dataset = [44, 45, 46, 47, 48, 49, 50, 51, 52, 53, 54,79, 80,34,34,34,45,45]"
   ]
  },
  {
   "cell_type": "code",
   "execution_count": 4,
   "metadata": {},
   "outputs": [
    {
     "name": "stdout",
     "output_type": "stream",
     "text": [
      "After Sorting the data values:\n",
      " [34, 34, 34, 44, 45, 45, 45, 46, 47, 48, 49, 50, 51, 52, 53, 54, 79, 80]\n"
     ]
    }
   ],
   "source": [
    "data = [44, 45, 46, 47, 48, 49, 50, 51, 52, 53, 54,79, 80,34,34,34,45,45]\n",
    "def sort(data):   \n",
    "    new_list = []\n",
    "    while data:\n",
    "        min_value = data[0]\n",
    "        for i in data:\n",
    "            if i < min_value:\n",
    "                min_value = i\n",
    "        new_list.append(min_value)\n",
    "        data.remove(min_value)\n",
    "    print(\"After Sorting the data values:\\n\",new_list)\n",
    "sort(data)"
   ]
  },
  {
   "cell_type": "markdown",
   "metadata": {},
   "source": [
    "#### Q6. Write a program that allows the user to enter any number of decimal numbers.\n",
    "####    Then the program should print the three highest numbers sorted by the highest number first.\n",
    "####    When entering the numbers, you must be able to type 'x' to end the entry.\n",
    "\n",
    "\tExemple of how it may look is:\n",
    "\tGive a decimal number: 3\n",
    "\tGive a decimal number: 2\n",
    "\tGive a decimal number 12\n",
    "\tGive a decimal number: 88\n",
    "\tThree highest number are:\n",
    "\t----output----\n",
    "\t88\n",
    "\t12\n",
    "\t3"
   ]
  },
  {
   "cell_type": "code",
   "execution_count": 18,
   "metadata": {},
   "outputs": [
    {
     "name": "stdout",
     "output_type": "stream",
     "text": [
      "Give a decimal number: 3\n",
      "Enter y (continue) / n (end)y\n",
      "Give a decimal number: 10\n",
      "Enter y (continue) / n (end)y\n",
      "Give a decimal number: 50\n",
      "Enter y (continue) / n (end)y\n",
      "Give a decimal number: 60\n",
      "Enter y (continue) / n (end)y\n",
      "Give a decimal number: 80\n",
      "Enter y (continue) / n (end)y\n",
      "Give a decimal number: 10\n",
      "Enter y (continue) / n (end)n\n",
      "Three highest numbers are:\n",
      "80\n",
      "60\n",
      "50\n"
     ]
    }
   ],
   "source": [
    "decimal = []\n",
    "\n",
    "while(True):\n",
    "    dec = int(input(\"Give a decimal number: \"))\n",
    "    decimal.append(dec)\n",
    "    cond = input(\"Enter y (continue) / n (end)\")\n",
    "    if cond == \"y\":\n",
    "        continue\n",
    "    else:\n",
    "        break\n",
    "decimal = sorted(decimal, reverse=True)\n",
    "print(\"Three highest numbers are:\")\n",
    "for i in range(3):\n",
    "    print(decimal[i])"
   ]
  },
  {
   "cell_type": "markdown",
   "metadata": {},
   "source": [
    "#### Q7. Write a Python program to guess a number between 1 to 15\n",
    "    Note : User is prompted to enter a guess. If the user guesses wrong then the prompt appears again until the guess is correct, on successful guess, user will get a \"Well guessed!\" message, and the program will exit.\n",
    "\n",
    "  \n",
    "Output:\n",
    "\n",
    "Enter a guess number. 6\n",
    "Try one more time \n",
    "Enter a guess number. 9\n",
    "Try one more time \n",
    "Enter a guess number. 10\n",
    "Well guessed!"
   ]
  },
  {
   "cell_type": "code",
   "execution_count": 22,
   "metadata": {},
   "outputs": [
    {
     "name": "stdout",
     "output_type": "stream",
     "text": [
      "Enter a guess number b/w 1-15 : 5\n",
      "Try one more time\n",
      "Enter a guess number b/w 1-15 : 5\n",
      "Try one more time\n",
      "Enter a guess number b/w 1-15 : 5\n",
      "Try one more time\n",
      "Enter a guess number b/w 1-15 : 10\n",
      "Well guessed!\n"
     ]
    }
   ],
   "source": [
    "while(True):\n",
    "    inp = int(input(\"Enter a guess number b/w 1-15 : \"))\n",
    "    if inp == 10:\n",
    "        print(\"Well guessed!\")\n",
    "        break\n",
    "    else:\n",
    "        print(\"Try one more time\")"
   ]
  },
  {
   "cell_type": "code",
   "execution_count": 5,
   "metadata": {},
   "outputs": [
    {
     "name": "stdout",
     "output_type": "stream",
     "text": [
      "[1, 2, 3, 7, 4, 5]\n"
     ]
    }
   ],
   "source": [
    "a = [1,2,3,4,5]\n",
    "idx = 3\n",
    "value=[7]\n",
    "\n",
    "def insert_gen(a,idx,value):\n",
    "    b=a[:idx] + value + a[idx:]\n",
    "    return b\n",
    "\n",
    "final = insert_gen(a,idx,value)\n",
    "print(final)"
   ]
  },
  {
   "cell_type": "code",
   "execution_count": null,
   "metadata": {},
   "outputs": [],
   "source": []
  }
 ],
 "metadata": {
  "kernelspec": {
   "display_name": "Python 3",
   "language": "python",
   "name": "python3"
  },
  "language_info": {
   "codemirror_mode": {
    "name": "ipython",
    "version": 3
   },
   "file_extension": ".py",
   "mimetype": "text/x-python",
   "name": "python",
   "nbconvert_exporter": "python",
   "pygments_lexer": "ipython3",
   "version": "3.7.6"
  }
 },
 "nbformat": 4,
 "nbformat_minor": 4
}
