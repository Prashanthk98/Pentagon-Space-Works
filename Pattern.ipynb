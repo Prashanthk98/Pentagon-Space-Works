{
 "cells": [
  {
   "cell_type": "code",
   "execution_count": 1,
   "metadata": {},
   "outputs": [
    {
     "name": "stdout",
     "output_type": "stream",
     "text": [
      "Sanjay Vamshi Umesh Prashanth "
     ]
    }
   ],
   "source": [
    "print(\"Sanjay\",end=\" \")\n",
    "print(\"Vamshi\",end=\" \")\n",
    "print(\"Umesh\",end=\" \")\n",
    "print(\"Prashanth\",end=\" \")"
   ]
  },
  {
   "cell_type": "code",
   "execution_count": 4,
   "metadata": {},
   "outputs": [
    {
     "name": "stdout",
     "output_type": "stream",
     "text": [
      "*\n",
      "*\n",
      "*\n",
      "*\n",
      "*\n"
     ]
    }
   ],
   "source": [
    "for i in range(1,6):\n",
    "    print(\"*\")"
   ]
  },
  {
   "cell_type": "code",
   "execution_count": 5,
   "metadata": {},
   "outputs": [
    {
     "name": "stdout",
     "output_type": "stream",
     "text": [
      "* * * * * "
     ]
    }
   ],
   "source": [
    "for i in range(1,6):\n",
    "    print(\"*\",end=\" \")"
   ]
  },
  {
   "cell_type": "code",
   "execution_count": 11,
   "metadata": {},
   "outputs": [
    {
     "name": "stdout",
     "output_type": "stream",
     "text": [
      "1 2 3 4 5 "
     ]
    }
   ],
   "source": [
    "for i in range(1,6):\n",
    "    print(i,end=\" \")"
   ]
  },
  {
   "cell_type": "code",
   "execution_count": 17,
   "metadata": {},
   "outputs": [
    {
     "name": "stdout",
     "output_type": "stream",
     "text": [
      "* * * * * \n",
      "* * * * * \n",
      "* * * * * \n",
      "* * * * * \n",
      "* * * * * \n"
     ]
    }
   ],
   "source": [
    "for i in range(1,6):\n",
    "    for j in range(1,6):\n",
    "        print(\"*\",end=\" \")\n",
    "    print()"
   ]
  },
  {
   "cell_type": "code",
   "execution_count": 18,
   "metadata": {},
   "outputs": [
    {
     "name": "stdout",
     "output_type": "stream",
     "text": [
      "          * * * * * \n",
      "          * * * * * \n",
      "          * * * * * \n",
      "          * * * * * \n",
      "          * * * * * \n"
     ]
    }
   ],
   "source": [
    "for i in range(1,6):\n",
    "    for j in range(1,6):\n",
    "        print(\" \",end=\" \")\n",
    "    for k in range(1,6):\n",
    "        print(\"*\",end=\" \")\n",
    "    print()"
   ]
  },
  {
   "cell_type": "code",
   "execution_count": 20,
   "metadata": {},
   "outputs": [
    {
     "name": "stdout",
     "output_type": "stream",
     "text": [
      "          1 1 1 1 1 \n",
      "          2 2 2 2 2 \n",
      "          3 3 3 3 3 \n",
      "          4 4 4 4 4 \n",
      "          5 5 5 5 5 \n"
     ]
    }
   ],
   "source": [
    "for i in range(1,6):\n",
    "    for j in range(1,6):\n",
    "        print(\" \",end=\" \")\n",
    "    for k in range(1,6):\n",
    "        print(i,end=\" \")\n",
    "    print()"
   ]
  },
  {
   "cell_type": "code",
   "execution_count": 22,
   "metadata": {},
   "outputs": [
    {
     "name": "stdout",
     "output_type": "stream",
     "text": [
      "          1 2 3 4 5 \n",
      "          1 2 3 4 5 \n",
      "          1 2 3 4 5 \n",
      "          1 2 3 4 5 \n",
      "          1 2 3 4 5 \n"
     ]
    }
   ],
   "source": [
    "for i in range(1,6):\n",
    "    for j in range(1,6):\n",
    "        print(\" \",end=\" \")\n",
    "    for k in range(1,6):\n",
    "        print(k,end=\" \")\n",
    "    print()"
   ]
  },
  {
   "cell_type": "code",
   "execution_count": 25,
   "metadata": {},
   "outputs": [
    {
     "name": "stdout",
     "output_type": "stream",
     "text": [
      "6 6 6 6 6 \n",
      "5 5 5 5 5 \n",
      "4 4 4 4 4 \n",
      "3 3 3 3 3 \n",
      "2 2 2 2 2 \n",
      "1 1 1 1 1 \n"
     ]
    }
   ],
   "source": [
    "for i in range(6,0,-1):\n",
    "    for k in range(1,6):\n",
    "        print(i,end=\" \")\n",
    "    print()"
   ]
  },
  {
   "cell_type": "code",
   "execution_count": 1,
   "metadata": {},
   "outputs": [
    {
     "name": "stdout",
     "output_type": "stream",
     "text": [
      "\n",
      "* \n",
      "* * \n",
      "* * * \n",
      "* * * * \n",
      "* * * * * \n",
      "* \n",
      "* * \n",
      "* * * \n",
      "* * * * \n",
      "* * * * * \n"
     ]
    }
   ],
   "source": [
    "for i in range(0,6):\n",
    "    for j in range(i):\n",
    "        print(\"*\",end=\" \")\n",
    "    print()\n",
    "    \n",
    "for i in range(1,6):\n",
    "    for j in range(1,i+1):\n",
    "        print(\"*\",end=\" \")\n",
    "    print()\n",
    "    "
   ]
  },
  {
   "cell_type": "code",
   "execution_count": 3,
   "metadata": {},
   "outputs": [
    {
     "name": "stdout",
     "output_type": "stream",
     "text": [
      "* * * * * \n",
      "* * * * \n",
      "* * * \n",
      "* * \n",
      "* \n",
      "* * * * * \n",
      "* * * * \n",
      "* * * \n",
      "* * \n",
      "* \n"
     ]
    }
   ],
   "source": [
    "for i in range(5,0,-1):\n",
    "    for j in range(i):\n",
    "        print(\"*\",end=\" \")\n",
    "    print()\n",
    "\n",
    "for i in range(5,0,-1):\n",
    "    for j in range(1,i+1):\n",
    "        print(\"*\",end=\" \")\n",
    "    print()"
   ]
  },
  {
   "cell_type": "code",
   "execution_count": 6,
   "metadata": {},
   "outputs": [
    {
     "name": "stdout",
     "output_type": "stream",
     "text": [
      "  * * * * * \n",
      "    * * * * * \n",
      "      * * * * * \n",
      "        * * * * * \n",
      "          * * * * * \n"
     ]
    }
   ],
   "source": [
    "for i in range(1,6):\n",
    "    for j in range(i):\n",
    "        print(\" \",end=\" \")\n",
    "    for k in range(1,6):\n",
    "        print(\"*\",end=\" \")\n",
    "    print()"
   ]
  },
  {
   "cell_type": "code",
   "execution_count": 37,
   "metadata": {},
   "outputs": [
    {
     "name": "stdout",
     "output_type": "stream",
     "text": [
      "          * * * * * \n",
      "        * * * * * \n",
      "      * * * * * \n",
      "    * * * * * \n",
      "  * * * * * \n"
     ]
    }
   ],
   "source": [
    "for i in range(5,0,-1):\n",
    "    for j in range(i):\n",
    "        print(\" \",end=\" \")\n",
    "    for k in range(1,6):\n",
    "        print(\"*\",end=\" \")\n",
    "    print()"
   ]
  },
  {
   "cell_type": "code",
   "execution_count": 8,
   "metadata": {},
   "outputs": [
    {
     "name": "stdout",
     "output_type": "stream",
     "text": [
      "          * \n",
      "          * * \n",
      "          * * * \n",
      "          * * * * \n",
      "          * * * * * \n",
      "          * \n",
      "          * * \n",
      "          * * * \n",
      "          * * * * \n",
      "          * * * * * \n"
     ]
    }
   ],
   "source": [
    "inc=1\n",
    "for i in range(1,6):\n",
    "    for j in range(5,0,-1):\n",
    "        print(\" \",end=\" \")\n",
    "    for k in range(1,i+1):\n",
    "        print(\"*\",end=\" \")\n",
    "        #inc+=2\n",
    "    print()\n",
    "    \n",
    "for i in range(1,6):\n",
    "    for j in range(1,6):\n",
    "        print(\" \",end=\" \")\n",
    "    for k in range(i):\n",
    "        print(\"*\",end=\" \")\n",
    "    print()"
   ]
  },
  {
   "cell_type": "code",
   "execution_count": 25,
   "metadata": {},
   "outputs": [
    {
     "name": "stdout",
     "output_type": "stream",
     "text": [
      "+ + + + + * \n",
      "+ + + + * * * \n",
      "+ + + * * * * * \n",
      "+ + * * * * * * * \n",
      "+ * * * * * * * * * \n",
      "          * \n",
      "        * * * \n",
      "      * * * * * \n",
      "    * * * * * * * \n",
      "  * * * * * * * * * \n"
     ]
    }
   ],
   "source": [
    "for i in range(1,6):\n",
    "    for k in range(1,(5-i+1)+1):\n",
    "        print(\"+\",end=\" \")\n",
    "    for j in range(1,(2*i-1)+1):#(1,(2*(5-i+1)-1)+1)\n",
    "        print(\"*\",end=\" \")\n",
    "    print()\n",
    "\n",
    "for i in range(1,6):\n",
    "    for j in range(1,(5-i+1)+1):\n",
    "        print(\" \",end=\" \")\n",
    "    for k in range(1,i+(i-1)+1):\n",
    "        print(\"*\",end=\" \")\n",
    "    print()"
   ]
  },
  {
   "cell_type": "code",
   "execution_count": 57,
   "metadata": {},
   "outputs": [
    {
     "name": "stdout",
     "output_type": "stream",
     "text": [
      "  * * * * * * * * * \n",
      "    * * * * * * * \n",
      "      * * * * * \n",
      "        * * * \n",
      "          * \n"
     ]
    }
   ],
   "source": [
    "for i in range(5,0,-1):\n",
    "    for k in range(1,(5-i+1)+1):\n",
    "        print(\" \",end=\" \")\n",
    "    for j in range(1,(2*i-1)+1):\n",
    "        print(\"*\",end=\" \")\n",
    "    print()"
   ]
  },
  {
   "cell_type": "code",
   "execution_count": 63,
   "metadata": {},
   "outputs": [
    {
     "name": "stdout",
     "output_type": "stream",
     "text": [
      "          1 \n",
      "        1 2 3 \n",
      "      1 2 3 4 5 \n",
      "    1 2 3 4 5 6 7 \n",
      "  1 2 3 4 5 6 7 8 9 \n",
      "  1 2 3 4 5 6 7 8 9 \n",
      "    1 2 3 4 5 6 7 \n",
      "      1 2 3 4 5 \n",
      "        1 2 3 \n",
      "          1 \n"
     ]
    }
   ],
   "source": [
    "for i in range(1,6):\n",
    "    for k in range(1,(5-i+1)+1):\n",
    "        print(\" \",end=\" \")\n",
    "    for j in range(1,(2*i-1)+1):\n",
    "        print(j,end=\" \")\n",
    "    print()\n",
    "for i in range(1,6):\n",
    "    for k in range(1,i+1):\n",
    "        print(\" \",end=\" \")\n",
    "    for j in range(1,(2*(5-i+1)-1)+1):\n",
    "        print(j,end=\" \")\n",
    "    print()"
   ]
  },
  {
   "cell_type": "code",
   "execution_count": 64,
   "metadata": {},
   "outputs": [
    {
     "name": "stdout",
     "output_type": "stream",
     "text": [
      "  * * * * * \n",
      "    * * * * * \n",
      "      * * * * * \n",
      "        * * * * * \n",
      "          * * * * * \n",
      "          * * * * * \n",
      "        * * * * * \n",
      "      * * * * * \n",
      "    * * * * * \n",
      "  * * * * * \n"
     ]
    }
   ],
   "source": [
    "for i in range(1,6):\n",
    "    for j in range(i):\n",
    "        print(\" \",end=\" \")\n",
    "    for k in range(1,6):\n",
    "        print(\"*\",end=\" \")\n",
    "    print()\n",
    "for i in range(5,0,-1):\n",
    "    for j in range(i):\n",
    "        print(\" \",end=\" \")\n",
    "    for k in range(1,6):\n",
    "        print(\"*\",end=\" \")\n",
    "    print()"
   ]
  },
  {
   "cell_type": "code",
   "execution_count": 27,
   "metadata": {},
   "outputs": [
    {
     "name": "stdout",
     "output_type": "stream",
     "text": [
      "A A A A A \n",
      "B B B B B \n",
      "C C C C C \n",
      "D D D D D \n",
      "E E E E E \n"
     ]
    }
   ],
   "source": [
    "for i in range(1,6):\n",
    "    for j in range(1,6):\n",
    "        print(chr(64+i),end=\" \")\n",
    "    print()"
   ]
  },
  {
   "cell_type": "code",
   "execution_count": 28,
   "metadata": {},
   "outputs": [
    {
     "name": "stdout",
     "output_type": "stream",
     "text": [
      "A B C D E \n",
      "A B C D E \n",
      "A B C D E \n",
      "A B C D E \n",
      "A B C D E \n"
     ]
    }
   ],
   "source": [
    "for i in range(1,6):\n",
    "    for j in range(1,6):\n",
    "        print(chr(64+j),end=\" \")\n",
    "    print()"
   ]
  },
  {
   "cell_type": "code",
   "execution_count": 42,
   "metadata": {},
   "outputs": [
    {
     "name": "stdout",
     "output_type": "stream",
     "text": [
      "          A \n",
      "        C B A \n",
      "      E D C B A \n",
      "    G F E D C B A \n",
      "  I H G F E D C B A \n",
      "  A B C D E F G H I \n",
      "    A B C D E F G \n",
      "      A B C D E \n",
      "        A B C \n",
      "          A \n"
     ]
    }
   ],
   "source": [
    "for i in range(1,6):\n",
    "    for k in range(6,i,-1):\n",
    "        print(\" \",end=\" \")\n",
    "    for j in range((2*i-1),0,-1):\n",
    "        print(chr(64+j),end=\" \")\n",
    "    print()\n",
    "\n",
    "for i in range(5,0,-1):\n",
    "    for k in range(1,(5-i+1)+1):\n",
    "        print(\" \",end=\" \")\n",
    "    for j in range(1,(2*i-1)+1):\n",
    "        print(chr(64+j),end=\" \")\n",
    "    print()"
   ]
  },
  {
   "cell_type": "code",
   "execution_count": 46,
   "metadata": {},
   "outputs": [
    {
     "name": "stdout",
     "output_type": "stream",
     "text": [
      "* * * * 1 \n",
      "* * * 1 2 1 \n",
      "* * 1 2 3 2 1 \n",
      "* 1 2 3 4 3 2 1 \n",
      "1 2 3 4 5 4 3 2 1 \n"
     ]
    }
   ],
   "source": [
    "for i in range(1,6):\n",
    "    for j in range(5,i,-1):\n",
    "        print(\"*\",end=\" \")\n",
    "    for k in range(i-1,-i,-1):\n",
    "        print(i-abs(k),end=\" \")\n",
    "    print()"
   ]
  },
  {
   "cell_type": "code",
   "execution_count": 49,
   "metadata": {},
   "outputs": [
    {
     "name": "stdout",
     "output_type": "stream",
     "text": [
      "        1 \n",
      "      1 2 1 \n",
      "    1 2 3 2 1 \n",
      "  1 2 3 4 3 2 1 \n",
      "1 2 3 4 5 4 3 2 1 \n"
     ]
    }
   ],
   "source": [
    "for i in range(1,6):\n",
    "    for j in range(5,i,-1):\n",
    "        print(\" \",end=\" \")\n",
    "    for k in range(i-1,-i,-1):\n",
    "        print(i-abs(k),end=\" \")\n",
    "    print()"
   ]
  },
  {
   "cell_type": "code",
   "execution_count": 40,
   "metadata": {},
   "outputs": [
    {
     "name": "stdout",
     "output_type": "stream",
     "text": [
      "15\n",
      "2 is a Prime Number\n",
      "3 is a Prime Number\n",
      "4 is not a Prime Number\n",
      "5 is a Prime Number\n",
      "6 is not a Prime Number\n",
      "7 is a Prime Number\n",
      "8 is not a Prime Number\n",
      "9 is not a Prime Number\n",
      "10 is not a Prime Number\n",
      "11 is a Prime Number\n",
      "12 is not a Prime Number\n",
      "13 is a Prime Number\n",
      "14 is not a Prime Number\n",
      "15 is not a Prime Number\n"
     ]
    }
   ],
   "source": [
    "def pri(x):\n",
    "    for i in range(2,x):\n",
    "        if (x%i)==0:\n",
    "            print(\"{} is not a Prime Number\".format(x))\n",
    "            break      \n",
    "    else:\n",
    "        print(\"{} is a Prime Number\".format(x))\n",
    "x = int(input())\n",
    "if x > 1:\n",
    "    for i in range(2,x+1):\n",
    "\n",
    "        pri(i)\n",
    "else:\n",
    "    print(\"Not a Prime Number\")"
   ]
  },
  {
   "cell_type": "code",
   "execution_count": null,
   "metadata": {},
   "outputs": [],
   "source": []
  },
  {
   "cell_type": "code",
   "execution_count": null,
   "metadata": {},
   "outputs": [],
   "source": []
  }
 ],
 "metadata": {
  "kernelspec": {
   "display_name": "Python 3",
   "language": "python",
   "name": "python3"
  },
  "language_info": {
   "codemirror_mode": {
    "name": "ipython",
    "version": 3
   },
   "file_extension": ".py",
   "mimetype": "text/x-python",
   "name": "python",
   "nbconvert_exporter": "python",
   "pygments_lexer": "ipython3",
   "version": "3.7.6"
  }
 },
 "nbformat": 4,
 "nbformat_minor": 4
}
