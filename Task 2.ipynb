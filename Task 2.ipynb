{
 "cells": [
  {
   "cell_type": "markdown",
   "metadata": {},
   "source": [
    "#### 1. write a function to find sum of integers and float values\n",
    "\n",
    "\tnumber = [23,45,67,78,'Hello',34.34,34j,'Python',34,45.6,'ML']"
   ]
  },
  {
   "cell_type": "code",
   "execution_count": 4,
   "metadata": {},
   "outputs": [
    {
     "name": "stdout",
     "output_type": "stream",
     "text": [
      "Sum is 326.94000000000005\n"
     ]
    }
   ],
   "source": [
    "l=[23,45,67,78,'Hello',34.34,34j,'Python',34,45.6,'ML']\n",
    "res=[]\n",
    "for i in l:\n",
    "    if type(i)==int or type(i)==float:\n",
    "        res.append(i)\n",
    "        \n",
    "print(\"Sum is\", sum(res))       "
   ]
  },
  {
   "cell_type": "markdown",
   "metadata": {},
   "source": [
    "#### 2. Create a function that take the number of wins,drow and losses and calculates the number of points a football team has obtained so far.\n",
    "\n",
    "\twins get 3 points\n",
    "\tdraws get 1 points\n",
    "\tlosses get 0 points\n",
    "\n",
    "    Examples:\n",
    "\n",
    "\tmyfunction(3,4,2) \n",
    "\t\toutput 13\n",
    "\tmyfunction(5,0,2)\n",
    "\t\toutput 15\n",
    "\tmyfunction(0,0,1)\n",
    "\t\toutput 0\n",
    "        "
   ]
  },
  {
   "cell_type": "code",
   "execution_count": 15,
   "metadata": {},
   "outputs": [
    {
     "name": "stdout",
     "output_type": "stream",
     "text": [
      "Enter no. of wins5\n",
      "Enter no. of draws0\n",
      "Enter no. of losses5\n",
      "Total Score is 15\n"
     ]
    }
   ],
   "source": [
    "def football(a,b,c):\n",
    "    win=3\n",
    "    draw=1\n",
    "    loss=0\n",
    "    result=a*win+b*draw+c*loss\n",
    "    print(\"Total Score is\", result)\n",
    "\n",
    "x=int(input(\"Enter no. of wins\"))\n",
    "y=int(input(\"Enter no. of draws\"))\n",
    "z=int(input(\"Enter no. of losses\"))\n",
    "    \n",
    "football(x,y,z)"
   ]
  },
  {
   "cell_type": "markdown",
   "metadata": {},
   "source": [
    " #### 3.Write a python program to calculate % of death rate, happened due to Covid-19 in all over india with the help of function. % of death rate must be returned by the function. all required values must be entered on the run time like total cases, no of death etc. ###"
   ]
  },
  {
   "cell_type": "code",
   "execution_count": 18,
   "metadata": {},
   "outputs": [
    {
     "name": "stdout",
     "output_type": "stream",
     "text": [
      "Enter No. of deaths10\n",
      "Enter no. of cases100\n",
      "Death rate is: 10.0 %\n"
     ]
    }
   ],
   "source": [
    "def corona(x,y):\n",
    "    death=(x/y)*100\n",
    "    return death\n",
    "\n",
    "a=int(input(\"Enter No. of deaths\"))\n",
    "b=int(input(\"Enter no. of cases\"))\n",
    "res=corona(a,b)\n",
    "print(\"Death rate is:\", res,\"%\")"
   ]
  },
  {
   "cell_type": "markdown",
   "metadata": {},
   "source": [
    "#### 4.Write a Python program to convert a list of multiple integers into a single integer.\n",
    "\n",
    "\t Example:- L = [11, 323, 520]\n",
    " \t output - 11323520"
   ]
  },
  {
   "cell_type": "code",
   "execution_count": 21,
   "metadata": {},
   "outputs": [
    {
     "name": "stdout",
     "output_type": "stream",
     "text": [
      "joined integer  11323520\n"
     ]
    }
   ],
   "source": [
    "l=[11, 323, 520]\n",
    "res=\" \"\n",
    "for i in l:\n",
    "    s=str(i)\n",
    "    res=res+s\n",
    "    \n",
    "print(\"joined integer\", res)\n",
    "    "
   ]
  },
  {
   "cell_type": "code",
   "execution_count": null,
   "metadata": {},
   "outputs": [],
   "source": []
  }
 ],
 "metadata": {
  "kernelspec": {
   "display_name": "Python 3",
   "language": "python",
   "name": "python3"
  },
  "language_info": {
   "codemirror_mode": {
    "name": "ipython",
    "version": 3
   },
   "file_extension": ".py",
   "mimetype": "text/x-python",
   "name": "python",
   "nbconvert_exporter": "python",
   "pygments_lexer": "ipython3",
   "version": "3.7.6"
  }
 },
 "nbformat": 4,
 "nbformat_minor": 5
}
