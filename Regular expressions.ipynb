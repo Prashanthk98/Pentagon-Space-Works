{
 "cells": [
  {
   "cell_type": "code",
   "execution_count": 8,
   "metadata": {},
   "outputs": [
    {
     "name": "stdout",
     "output_type": "stream",
     "text": [
      "YES! We have a match!\n"
     ]
    }
   ],
   "source": [
    "import re\n",
    "\n",
    "#Check if the string starts with \"The\" and ends with \"Spain\":\n",
    "\n",
    "txt = \"The rain in Spain\"\n",
    "x = re.search(\"^The.*Spain$\", txt)\n",
    "\n",
    "if x:\n",
    "  print(\"YES! We have a match!\")\n",
    "else:\n",
    "  print(\"No match\")"
   ]
  },
  {
   "cell_type": "code",
   "execution_count": 25,
   "metadata": {},
   "outputs": [
    {
     "name": "stdout",
     "output_type": "stream",
     "text": [
      "Valid Email\n",
      "Valid Email\n",
      "Invalid Email\n"
     ]
    }
   ],
   "source": [
    "import re \n",
    "  \n",
    "# Make a regular expression \n",
    "# for validating an Email \n",
    "#regex = '^[a-z0-9]+[\\._]?[a-z0-9]+[@]\\w+[.]\\w{2,3}$'\n",
    "# for custom mails use: '^[a-z0-9]+[\\._]?[a-z0-9]+[@]\\w+[.]\\w+$' \n",
    "regex = '[a-zA-Z0-9]+[\\-._]?[a-zA-Z0-9]+@[a-zA-Z]+\\.[a-z]'      \n",
    "# Define a function for \n",
    "# for validating an Email \n",
    "def check(email):  \n",
    "  \n",
    "    # pass the regular expression \n",
    "    # and the string in search() method \n",
    "    if(re.search(regex,email)):  \n",
    "        print(\"Valid Email\")  \n",
    "          \n",
    "    else:  \n",
    "        print(\"Invalid Email\")  \n",
    "      \n",
    "  \n",
    "# Driver Code  \n",
    "if __name__ == '__main__' :  \n",
    "      # '^[a-z0-9]+[\\._]?[a-z0-9]+[@]\\w+[.]\\w{2,3}$'\n",
    "    # Enter the email  \n",
    "    email = \"ankitrai326@gmail.com\"\n",
    "      \n",
    "    # calling run function  \n",
    "    check(email) \n",
    "  \n",
    "    email = \"my.ownsite@ourearth.org\"\n",
    "    check(email) \n",
    "  \n",
    "    email = \"ankitrai326.com\"\n",
    "    check(email) "
   ]
  },
  {
   "cell_type": "code",
   "execution_count": 49,
   "metadata": {},
   "outputs": [
    {
     "name": "stdout",
     "output_type": "stream",
     "text": [
      "['My', 'Myyyy', 'Myy']\n"
     ]
    }
   ],
   "source": [
    "#findall\n",
    "code = \"My name is Myyyy Prashanth Myy\"\n",
    "pattern = \"My*\"\n",
    "x = re.findall(pattern,code)\n",
    "print(x)"
   ]
  },
  {
   "cell_type": "code",
   "execution_count": 48,
   "metadata": {},
   "outputs": [
    {
     "name": "stdout",
     "output_type": "stream",
     "text": [
      "<re.Match object; span=(12, 17), match='Spain'>\n"
     ]
    }
   ],
   "source": [
    "#Search\n",
    "#If no matches are found, the value None is returned:\n",
    "txt = \"The rain in Spain\"\n",
    "x = re.search(\"Spain\", txt)\n",
    "print(x)"
   ]
  },
  {
   "cell_type": "code",
   "execution_count": 47,
   "metadata": {},
   "outputs": [
    {
     "name": "stdout",
     "output_type": "stream",
     "text": [
      "The first white-space character is located in position: 3\n"
     ]
    }
   ],
   "source": [
    "txt = \"The rain in Spain\"\n",
    "x = re.search(\"\\s\", txt)\n",
    "\n",
    "print(\"The first white-space character is located in position:\", x.start())"
   ]
  },
  {
   "cell_type": "code",
   "execution_count": 51,
   "metadata": {},
   "outputs": [
    {
     "name": "stdout",
     "output_type": "stream",
     "text": [
      "['The', 'rain', 'in', 'Spain']\n"
     ]
    }
   ],
   "source": [
    "#Split\n",
    "#Split at each white-space character:\n",
    "txt = \"The rain in Spain\"\n",
    "x = re.split(\"\\s\", txt)\n",
    "print(x)"
   ]
  },
  {
   "cell_type": "code",
   "execution_count": 53,
   "metadata": {},
   "outputs": [
    {
     "name": "stdout",
     "output_type": "stream",
     "text": [
      "['The', 'rain in Spain']\n"
     ]
    }
   ],
   "source": [
    "#Split the string only at the first occurrence:\n",
    "txt = \"The rain in Spain\"\n",
    "x = re.split(\"\\s\", txt, 1)\n",
    "print(x)"
   ]
  },
  {
   "cell_type": "code",
   "execution_count": 56,
   "metadata": {},
   "outputs": [
    {
     "name": "stdout",
     "output_type": "stream",
     "text": [
      "jpmk.eng.prashanth@gmail.com\n",
      "('jpmk.eng.prashanth@gmail.com', 2)\n"
     ]
    }
   ],
   "source": [
    "mail = \"jpmk1eng9prashanth@gmail.com\"\n",
    "pattern = \"[0-9]\"\n",
    "replace = \".\"\n",
    "x = re.sub(pattern,replace,mail)\n",
    "print(x)\n",
    "\n",
    "x = re.subn(pattern,replace,mail)\n",
    "print(x)"
   ]
  },
  {
   "cell_type": "code",
   "execution_count": null,
   "metadata": {},
   "outputs": [],
   "source": [
    "\"\"\"findall\tReturns a list containing all matches\n",
    "search\tReturns a Match object if there is a match anywhere in the string\n",
    "split\tReturns a list where the string has been split at each match\n",
    "sub\tReplaces one or many matches with a string\n",
    "\"\"\"\n",
    "\n",
    "\"\"\"The Match object has properties and methods used to retrieve information \n",
    "about the search, and the result:\n",
    ".span() returns a tuple containing the start-, and end positions of the match.\n",
    ".string returns the string passed into the function\n",
    ".group() returns the part of the string where there was a match\"\"\""
   ]
  }
 ],
 "metadata": {
  "kernelspec": {
   "display_name": "Python 3",
   "language": "python",
   "name": "python3"
  },
  "language_info": {
   "codemirror_mode": {
    "name": "ipython",
    "version": 3
   },
   "file_extension": ".py",
   "mimetype": "text/x-python",
   "name": "python",
   "nbconvert_exporter": "python",
   "pygments_lexer": "ipython3",
   "version": "3.7.6"
  }
 },
 "nbformat": 4,
 "nbformat_minor": 4
}
