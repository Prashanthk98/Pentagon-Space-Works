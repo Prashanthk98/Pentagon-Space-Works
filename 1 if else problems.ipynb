{
 "cells": [
  {
   "cell_type": "markdown",
   "metadata": {},
   "source": [
    "#### 1. Take values of length and breadth of a rectangle from user and check if it is square or not."
   ]
  },
  {
   "cell_type": "code",
   "execution_count": 3,
   "metadata": {},
   "outputs": [
    {
     "name": "stdout",
     "output_type": "stream",
     "text": [
      "Enter the value of l(Length)3\n",
      "Enter the value of b(Breadth)3\n",
      "It is a Square\n"
     ]
    }
   ],
   "source": [
    "l = int(input(\"Enter the value of l(Length)\"))\n",
    "b = int(input(\"Enter the value of b(Breadth)\"))\n",
    "def square(l,b):\n",
    "    if l==b:\n",
    "        print(\"It is a Square\")\n",
    "    else:\n",
    "        print(\"IT is a Rectangular\")\n",
    "square(l,b)"
   ]
  },
  {
   "cell_type": "markdown",
   "metadata": {},
   "source": [
    "#### 2. Take two int values from user and print greatest among them"
   ]
  },
  {
   "cell_type": "code",
   "execution_count": 4,
   "metadata": {},
   "outputs": [
    {
     "name": "stdout",
     "output_type": "stream",
     "text": [
      "Enter the 1st number: 60\n",
      "Enter the 2nd number: 20\n",
      "Greater Number is: 60\n"
     ]
    }
   ],
   "source": [
    "a = int(input(\"Enter the 1st number: \"))\n",
    "b = int(input(\"Enter the 2nd number: \"))\n",
    "if a > b:\n",
    "    print(\"Greater Number is: {}\".format(a))\n",
    "else:\n",
    "    print(\"Greater Number is: {}\".format(b))"
   ]
  },
  {
   "cell_type": "markdown",
   "metadata": {},
   "source": [
    "#### 3.  A shop will give discount of 10% if the cost of purchased quantity is more than 1000. Ask user for quantity Suppose, one unit will cost 100. Judge and print total cost for user."
   ]
  },
  {
   "cell_type": "code",
   "execution_count": 14,
   "metadata": {},
   "outputs": [
    {
     "name": "stdout",
     "output_type": "stream",
     "text": [
      "Enter the cost of total purchased quantity: 12000\n",
      "Enter the number of quantity purchased: 12\n",
      "Total is: Rs 10800.0\n"
     ]
    }
   ],
   "source": [
    "cost = int(input(\"Enter the cost of total purchased quantity: \"))\n",
    "quantity = int(input(\"Enter the number of quantity purchased: \"))\n",
    "if quantity > 10:\n",
    "    total_cost = cost-(10/100*cost)\n",
    "    print(\"Total is: Rs {}\".format(total_cost))\n",
    "else: \n",
    "    print(\"Total is: Rs {}\".format(cost))"
   ]
  },
  {
   "cell_type": "markdown",
   "metadata": {},
   "source": [
    "#### 4. A company decided to give bonus of 5% to employee if his/her year of service is more than 5 years. Ask user for their salary and year of service and print the net bonus amount."
   ]
  },
  {
   "cell_type": "code",
   "execution_count": 13,
   "metadata": {},
   "outputs": [
    {
     "name": "stdout",
     "output_type": "stream",
     "text": [
      "Enter your Salary: 10000\n",
      "Enter your years of Experience: 6\n",
      "Your net bonus amount is: 10500.0/-\n"
     ]
    }
   ],
   "source": [
    "salary = int(input(\"Enter your Salary: \"))\n",
    "exp = int(input(\"Enter your years of Experience: \"))\n",
    "if exp > 5:\n",
    "    net_salary = salary + (5/100*salary)\n",
    "    print(\"Your net bonus amount is: Rs {}/-\".format(net_salary))\n",
    "else:\n",
    "    print(\"Your net bonus amount is: Rs {}/-\".format(salary))"
   ]
  },
  {
   "cell_type": "markdown",
   "metadata": {},
   "source": [
    "##### 5. A school has following rules for grading system: \n",
    "#### a. Below 25  F \n",
    "#### b. 25 to 45  E \n",
    "#### c. 45 to 50  D \n",
    "#### d. 50 to 60  C \n",
    "#### e. 60 to 80  B \n",
    "#### f. Above 80  A \n",
    "Ask user to enter marks and print the corresponding grade."
   ]
  },
  {
   "cell_type": "code",
   "execution_count": 23,
   "metadata": {},
   "outputs": [
    {
     "name": "stdout",
     "output_type": "stream",
     "text": [
      "Enter your marks: 100\n",
      "Your grade is : A\n"
     ]
    }
   ],
   "source": [
    "marks = int(input(\"Enter your marks: \"))\n",
    "if marks < 25:\n",
    "    print(\"Your grade is : F\")\n",
    "elif marks >= 25 and marks < 45:\n",
    "    print(\"Your grade is : E\")\n",
    "elif marks >= 45 and marks < 50:\n",
    "    print(\"Your grade is : D\")\n",
    "elif marks >= 50 and marks < 60:\n",
    "    print(\"Your grade is : C\")\n",
    "elif marks >= 60 and marks < 80:\n",
    "    print(\"Your grade is : B\")\n",
    "else:\n",
    "    print(\"Your grade is : A\")"
   ]
  },
  {
   "cell_type": "markdown",
   "metadata": {},
   "source": [
    "#### 6. Take input of age of 3 people by user and determine oldest and youngest among them."
   ]
  },
  {
   "cell_type": "code",
   "execution_count": 31,
   "metadata": {},
   "outputs": [
    {
     "name": "stdout",
     "output_type": "stream",
     "text": [
      "Enter age of 3 people: 99 50 60\n",
      "Youngest Person: 50\n",
      "Oldest Person: 99\n"
     ]
    }
   ],
   "source": [
    "age = input(\"Enter age of 3 people: \")\n",
    "l = age.split()\n",
    "new_list = []\n",
    "for i in l:\n",
    "    n = int(i)\n",
    "    new_list.append(n)\n",
    "min = new_list[0]\n",
    "max = new_list[0]\n",
    "for i in new_list:\n",
    "    if i < min:\n",
    "        min = i\n",
    "    if i > max:\n",
    "        max = i\n",
    "print(\"Youngest Person: {}\".format(min))\n",
    "print(\"Oldest Person: {}\".format(max))\n"
   ]
  },
  {
   "cell_type": "markdown",
   "metadata": {},
   "source": [
    "#### 7. Write a program to print absolute vlaue of a number entered by user. \n",
    "E.g.INPUT: 1 OUTPUT: 1 \n",
    "INPUT: 1 OUTPUT: 1"
   ]
  },
  {
   "cell_type": "code",
   "execution_count": 33,
   "metadata": {},
   "outputs": [
    {
     "name": "stdout",
     "output_type": "stream",
     "text": [
      "INPUT: -6\n",
      "OUTPUT: 6\n"
     ]
    }
   ],
   "source": [
    "value = int(input(\"INPUT: \"))\n",
    "if value < 0:\n",
    "    print(\"OUTPUT: {}\".format(abs(value)))"
   ]
  },
  {
   "cell_type": "markdown",
   "metadata": {},
   "source": [
    "#### 8. A student will not be allowed to sit in exam if his/her attendence is less than 75%. Take following input from user Number of classes held Number of classes attended. And print percentage of class attended Is student is allowed to sit in exam or not."
   ]
  },
  {
   "cell_type": "code",
   "execution_count": 39,
   "metadata": {},
   "outputs": [
    {
     "name": "stdout",
     "output_type": "stream",
     "text": [
      "Enter the number of classes held: 100\n",
      "Enter the number of classes attended: 50\n",
      "Student is not allowed to sit in Exam\n"
     ]
    }
   ],
   "source": [
    "class_held = int(input(\"Enter the number of classes held: \"))\n",
    "class_attend = int(input(\"Enter the number of classes attended: \"))\n",
    "per_attend = (class_attend/class_held)*100\n",
    "if per_attend < 75:\n",
    "    print(\"Student is not allowed to sit in Exam\")\n",
    "else:\n",
    "    print(\"Student is allowed to sit in Exam\")"
   ]
  },
  {
   "cell_type": "markdown",
   "metadata": {},
   "source": [
    "#### 9. Modify the above question to allow student to sit if he/she has medical cause. Ask user if he/she has medical cause or not ( 'Y' or 'N' ) and print accordingly. "
   ]
  },
  {
   "cell_type": "code",
   "execution_count": 2,
   "metadata": {},
   "outputs": [
    {
     "name": "stdout",
     "output_type": "stream",
     "text": [
      "Do you have any Medical Condition\n",
      " Type 'Y' or 'N'Y\n",
      "\n",
      "You are allowed\n"
     ]
    }
   ],
   "source": [
    "cond = input(\"Do you have any Medical Condition\\n Type 'Y' or 'N'\")\n",
    "print()\n",
    "if cond == 'Y':\n",
    "    print(\"You are allowed\")\n",
    "else:\n",
    "    print(\"You are not allowed\")"
   ]
  },
  {
   "cell_type": "markdown",
   "metadata": {},
   "source": [
    "#### 11. How to find the greatest amoung three numbers?"
   ]
  },
  {
   "cell_type": "markdown",
   "metadata": {},
   "source": [
    "#### 12. How to find the smallest amoung three numbers?"
   ]
  },
  {
   "cell_type": "code",
   "execution_count": 3,
   "metadata": {},
   "outputs": [
    {
     "name": "stdout",
     "output_type": "stream",
     "text": [
      "Enter age of 3 numbers only: 99 223 100\n",
      "Smallest Number: 99\n",
      "Greatest Number: 223\n"
     ]
    }
   ],
   "source": [
    "num = input(\"Enter age of 3 numbers only: \")\n",
    "l = num.split()\n",
    "new_list = []\n",
    "for i in l:\n",
    "    n = int(i)\n",
    "    new_list.append(n)\n",
    "min = new_list[0]\n",
    "max = new_list[0]\n",
    "for i in new_list:\n",
    "    if i < min:\n",
    "        min = i\n",
    "    if i > max:\n",
    "        max = i\n",
    "print(\"Smallest Number: {}\".format(min))\n",
    "print(\"Greatest Number: {}\".format(max))"
   ]
  },
  {
   "cell_type": "code",
   "execution_count": null,
   "metadata": {},
   "outputs": [],
   "source": []
  }
 ],
 "metadata": {
  "kernelspec": {
   "display_name": "Python 3",
   "language": "python",
   "name": "python3"
  },
  "language_info": {
   "codemirror_mode": {
    "name": "ipython",
    "version": 3
   },
   "file_extension": ".py",
   "mimetype": "text/x-python",
   "name": "python",
   "nbconvert_exporter": "python",
   "pygments_lexer": "ipython3",
   "version": "3.7.6"
  }
 },
 "nbformat": 4,
 "nbformat_minor": 4
}
