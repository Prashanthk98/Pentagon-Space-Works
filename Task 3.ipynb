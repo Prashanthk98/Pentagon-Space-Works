{
 "cells": [
  {
   "cell_type": "markdown",
   "metadata": {},
   "source": [
    " Create a function called format_percentage() which takes in a float as input and returns\n",
    "    a string containing the float expressed as a percentage, with two decimal places. \n",
    "\n",
    "For example:\n",
    "    format_percentage(0.33477) should return \"33.47%\"."
   ]
  },
  {
   "cell_type": "code",
   "execution_count": null,
   "metadata": {},
   "outputs": [],
   "source": [
    "def format_percentage(x):\n",
    "    res=str(x*100)\n",
    "    return(res)\n",
    "    \n",
    "a=float(input(\"Enter the floating value\")) \n",
    "result=format_percentage(a)\n",
    "print(\"percentage is\", result,\"%\")\n",
    "    "
   ]
  },
  {
   "cell_type": "markdown",
   "metadata": {},
   "source": [
    "2). Design and write a program consisting of the following functions:\n",
    "\n",
    "    main() – gets the current product price from the user, and display the discounted price correctly formatted as currency\n",
    "    calc_discount(price) – receives a price, applies a 25% discount and returns the discounted price\n",
    "    format_currency(number) – receives a number and returns it as a string with a $ in front of it and two decimal places.\n",
    "\n",
    "    Input:\n",
    "\t>>> Enter the price: 200\n",
    "    Output:\n",
    "        >>> $150.00"
   ]
  },
  {
   "cell_type": "code",
   "execution_count": 6,
   "metadata": {},
   "outputs": [
    {
     "name": "stdout",
     "output_type": "stream",
     "text": [
      "Enter the price200\n",
      "$150.00\n"
     ]
    }
   ],
   "source": [
    "def discount(price):\n",
    "    disprice=float(price-(0.25*price))\n",
    "    print(\"${:.2f}\".format(disprice))\n",
    "\n",
    "a=int(input(\"Enter the price\"))  \n",
    "discount(a)"
   ]
  },
  {
   "cell_type": "markdown",
   "metadata": {},
   "source": [
    " Highest Score\n",
    "    The score of N players is given and you have to find the highest score of an individual.\n",
    "\n",
    "\tInput Format\n",
    "\tThe first line of input consists of number of players, N\n",
    "\tThe second line of input consist of N separated scores of players\n",
    "\n",
    "\tSample TestCase\n",
    "\tInput\n",
    "\n",
    "\t5\n",
    "\t12\n",
    "\t14\n",
    "\t19\n",
    "\t67\n",
    "\t89\n",
    "\n",
    "\tOutput\n",
    "\n",
    "\t89"
   ]
  },
  {
   "cell_type": "code",
   "execution_count": 5,
   "metadata": {},
   "outputs": [
    {
     "name": "stdout",
     "output_type": "stream",
     "text": [
      "Enter the number of players3\n",
      "Enter the score50\n",
      "Enter the score20\n",
      "Enter the score30\n",
      "Maximum Score is: 50\n"
     ]
    }
   ],
   "source": [
    "num=int(input(\"Enter the number of players\"))\n",
    "l=[]\n",
    "for i in range(num):\n",
    "    data=int(input(\"Enter the score\"))\n",
    "    l.append(data)\n",
    "    \n",
    "max = l[0]\n",
    "for i in range(len(l)):\n",
    "    if l[i] > max:\n",
    "        max = l[i]\n",
    "print(\"Maximum Score is: {}\".format(max))"
   ]
  },
  {
   "cell_type": "markdown",
   "metadata": {},
   "source": [
    "4). Order\n",
    "    There are N members of a committee. A list is to made in alphabetical order. Print the name in alphabetical order.\n",
    "\n",
    "\tInput Format\n",
    "\tThe first line of input consist of number of members, N.\n",
    "\tNext N lines consist of name of members.\n",
    "\tSample TestCase\n",
    "\n",
    "\tInput\n",
    "\n",
    "\t6\n",
    "\tVikash\n",
    "\tRahul\n",
    "\tAlia\n",
    "\tSushma\n",
    "\tFaruk\n",
    "\tVarun\n",
    "\n",
    "\tOutput\n",
    "\n",
    "\tAlia\n",
    "\tFaruk\n",
    "\tRahul\n",
    "\tSushma\n",
    "\tVarun\n",
    "\tVikash"
   ]
  },
  {
   "cell_type": "code",
   "execution_count": 2,
   "metadata": {},
   "outputs": [
    {
     "name": "stdout",
     "output_type": "stream",
     "text": [
      "Enter the number of members in a committee3\n",
      "Enter the member namesAkash\n",
      "Enter the member namesArjun\n",
      "Enter the member namesAbhi\n",
      "['Abhi', 'Akash', 'Arjun']\n"
     ]
    }
   ],
   "source": [
    "num=int(input(\"Enter the number of members in a committee\"))\n",
    "members=[]\n",
    "for i in range(num):\n",
    "    data=input(\"Enter the member names\")\n",
    "    members.append(data)\n",
    "\n",
    "sort_members=[]\n",
    "while members:\n",
    "    mini=members[0]\n",
    "    for i in members:\n",
    "        if i<mini:\n",
    "            mini=i\n",
    "    sort_members.append(mini)\n",
    "    members.remove(mini)\n",
    "\n",
    "print(sort_members)    \n",
    "    "
   ]
  },
  {
   "cell_type": "markdown",
   "metadata": {},
   "source": [
    "#### 5). Second Maximum\n",
    "    The marks of Ranu are given in N subjects and you have to tell him the second maximum marks he has got. Marks may or may not duplicate Print the second maximum marks Ranu has got.\n",
    "    Note: 1). Solve using appropriate inbuilt Function\n",
    "\t  2). Solve without using any inbuilt in function\n",
    "\t\n",
    "    Input Format:\n",
    "\n",
    "\tThe first line of input consist of number of subjects, N.\n",
    "\tThe second line of input consist of N separated marks."
   ]
  },
  {
   "cell_type": "markdown",
   "metadata": {},
   "source": [
    "*Sample TestCase *\n",
    "\n",
    "\tinput\n",
    "\n",
    "\t5\n",
    "\t3 9 9 5 4\n",
    "\n",
    "\tOutput\n",
    "\n",
    "\t5"
   ]
  },
  {
   "cell_type": "code",
   "execution_count": 11,
   "metadata": {},
   "outputs": [
    {
     "name": "stdout",
     "output_type": "stream",
     "text": [
      "Enter no. of Subjects: 5\n",
      "Enter Subject 0 Marks66\n",
      "Enter Subject 1 Marks99\n",
      "Enter Subject 2 Marks88\n",
      "Enter Subject 3 Marks77\n",
      "Enter Subject 4 Marks99\n",
      "Second max marks 88\n"
     ]
    }
   ],
   "source": [
    "n = int(input(\"Enter no. of Subjects: \"))\n",
    "l = []\n",
    "for i in range(n):\n",
    "    n = int(input(\"Enter Subject {} Marks\".format(i)))\n",
    "    l.append(n)\n",
    "\n",
    "s = set(l)\n",
    "l1=list(s)\n",
    "l2=sorted(l1)\n",
    "print(\"Second max marks\",l2[-2])"
   ]
  },
  {
   "cell_type": "code",
   "execution_count": 7,
   "metadata": {},
   "outputs": [
    {
     "name": "stdout",
     "output_type": "stream",
     "text": [
      "Enter marks of Subjects: 33 55 77 99 100 100\n"
     ]
    },
    {
     "data": {
      "text/plain": [
       "99"
      ]
     },
     "execution_count": 7,
     "metadata": {},
     "output_type": "execute_result"
    }
   ],
   "source": [
    "n = input(\"Enter marks of Subjects: \")\n",
    "l = list(n.split())\n",
    "for i in range(len(l)):\n",
    "    l[i]=int(l[i])\n",
    "s = set(l)\n",
    "l1=list(s)\n",
    "res=[]\n",
    "while l1:\n",
    "    mini=l1[0]\n",
    "    for i in l1:\n",
    "        if i<mini:\n",
    "            mini=i\n",
    "    res.append(mini)\n",
    "    l1.remove(mini)\n",
    "\n",
    "res[-2]    "
   ]
  }
 ],
 "metadata": {
  "kernelspec": {
   "display_name": "Python 3",
   "language": "python",
   "name": "python3"
  },
  "language_info": {
   "codemirror_mode": {
    "name": "ipython",
    "version": 3
   },
   "file_extension": ".py",
   "mimetype": "text/x-python",
   "name": "python",
   "nbconvert_exporter": "python",
   "pygments_lexer": "ipython3",
   "version": "3.7.6"
  }
 },
 "nbformat": 4,
 "nbformat_minor": 5
}
