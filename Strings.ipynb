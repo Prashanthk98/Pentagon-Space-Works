{
 "cells": [
  {
   "cell_type": "raw",
   "metadata": {
    "scrolled": true
   },
   "source": [
    "string1=\"My name is \\nPrashanth\"\n",
    "print(string1)\n",
    "string2='''My \n",
    "   name\n",
    "       is Prashanth'''\n",
    "print(string2)"
   ]
  },
  {
   "cell_type": "code",
   "execution_count": null,
   "metadata": {},
   "outputs": [],
   "source": [
    "string=\"Prashanth\"\n",
    "print(string[0])\n",
    "print(string[0:4])\n",
    "print(string[::-1])"
   ]
  },
  {
   "cell_type": "code",
   "execution_count": null,
   "metadata": {},
   "outputs": [],
   "source": [
    "#Strings character cannot be deleted or updated\n",
    "string=\"Prashanth\"\n",
    "#string[0]=\"s\" \n",
    "#TypeError: 'str' object does not support item assignment\n",
    "del string"
   ]
  },
  {
   "cell_type": "code",
   "execution_count": null,
   "metadata": {},
   "outputs": [],
   "source": [
    "#But entire string can be updated and deleted\n",
    "string=\"Prashanth\"\n",
    "string=\"Shreenath\"\n",
    "print(string)"
   ]
  },
  {
   "cell_type": "code",
   "execution_count": null,
   "metadata": {},
   "outputs": [],
   "source": [
    "#Escape sequence is given by \\\n",
    "string=\"\\\"Pashanth\\\"\"\n",
    "print(string)"
   ]
  },
  {
   "cell_type": "code",
   "execution_count": null,
   "metadata": {},
   "outputs": [],
   "source": [
    "#Escaping backslash is given by \\,r\n",
    "string=\"\\\\Prashanth\\\\\"\n",
    "print(string)\n",
    "str=r\"\\Prashan\\th\"\n",
    "print(str)"
   ]
  },
  {
   "cell_type": "code",
   "execution_count": null,
   "metadata": {},
   "outputs": [],
   "source": [
    "#string formatting\n",
    "print(\"{} {} {}\".format('a','b','c'))\n",
    "print(\"{2} {1} {0}\".format('d','e','f'))"
   ]
  },
  {
   "cell_type": "code",
   "execution_count": null,
   "metadata": {},
   "outputs": [],
   "source": [
    "print(\"{0:b}\".format(10))\n",
    "print(\"{0:e}\".format(11))\n",
    "print(\"{0:.2f}\".format(12))"
   ]
  },
  {
   "cell_type": "code",
   "execution_count": null,
   "metadata": {},
   "outputs": [],
   "source": [
    "#String_constants\n",
    "string=\"Prashanth\"\n",
    "print(string.lower())\n",
    "print(string.upper())\n",
    "print(string.startswith('P'))\n",
    "print(string.endswith('e'))"
   ]
  },
  {
   "cell_type": "code",
   "execution_count": null,
   "metadata": {},
   "outputs": [],
   "source": [
    "#String validations|\n",
    "num=\"12\"\n",
    "print(num.isalpha())\n",
    "print(num.isdigit())\n",
    "print(num.isalnum())"
   ]
  },
  {
   "cell_type": "code",
   "execution_count": null,
   "metadata": {},
   "outputs": [],
   "source": [
    "#Negative Indexing\n",
    "string=\"Prasahnth\"\n",
    "print(string[-1])\n",
    "print(string[-4:-1])"
   ]
  },
  {
   "cell_type": "code",
   "execution_count": null,
   "metadata": {},
   "outputs": [],
   "source": [
    "#Removing spaces\n",
    "\"\"\"str.lsrtip(),str.rstrip(),str.strip()\"\"\""
   ]
  },
  {
   "cell_type": "code",
   "execution_count": null,
   "metadata": {},
   "outputs": [],
   "source": [
    "#packing \n",
    "def fun1(*arg):\n",
    "    l = arg\n",
    "    fun2(l)\n",
    "def fun2(arg):\n",
    "    print(arg)\n",
    "    a = arg\n",
    "    \n",
    "\n",
    "fruit = ['apple','mango','pineapple']\n",
    "fun1(fruit)"
   ]
  },
  {
   "cell_type": "code",
   "execution_count": null,
   "metadata": {},
   "outputs": [],
   "source": [
    "#unpacking\n",
    "a,b,c=1,2,3\n",
    "print(a)\n",
    "print(b)\n",
    "print(c)"
   ]
  },
  {
   "cell_type": "code",
   "execution_count": null,
   "metadata": {},
   "outputs": [],
   "source": [
    "def mySum(*args):\n",
    "    return sum(args)\n",
    "\n",
    "print(mySum(1, 2, 3, 4, 5))\n",
    "print(mySum(10, 20))"
   ]
  },
  {
   "cell_type": "code",
   "execution_count": null,
   "metadata": {},
   "outputs": [],
   "source": [
    "#* is used for tuples and list\n",
    "def fun1(a, b, c):\n",
    "    print(a, b, c)\n",
    " \n",
    "# Another sample function.\n",
    "# This is an example of PACKING. All arguments passed\n",
    "# to fun2 are packed into tuple *args.\n",
    "def fun2(*args):\n",
    " \n",
    "    # Convert args tuple to a list so we can modify it\n",
    "    args = list(args)\n",
    " \n",
    "    # Modifying args\n",
    "    args[0] = 'Geeksforgeeks'\n",
    "    args[1] = 'awesome'\n",
    " \n",
    "    # UNPACKING args and calling fun1()\n",
    "    fun1(*args)\n",
    " \n",
    "# Driver code\n",
    "fun2('Hello', 'beautiful', 'world!')"
   ]
  },
  {
   "cell_type": "code",
   "execution_count": null,
   "metadata": {},
   "outputs": [],
   "source": [
    "# ** is used for dict\n",
    "def fun(a, b, c):\n",
    "    print(a, b, c)\n",
    " \n",
    "# A call with unpacking of dictionary\n",
    "d = {'a':2, 'b':4, 'c':10}\n",
    "fun(**d)"
   ]
  },
  {
   "cell_type": "code",
   "execution_count": null,
   "metadata": {},
   "outputs": [],
   "source": [
    "#arthematic operations on strings\n",
    "string1 = \"Rama\"\n",
    "string2 = \"Sita\"\n",
    "print(string1+string2)\n",
    "print(string1*3)\n",
    "print(string2*2)"
   ]
  },
  {
   "cell_type": "code",
   "execution_count": null,
   "metadata": {},
   "outputs": [],
   "source": [
    "#string interning\n",
    "str1 = \"Prashanth\"\n",
    "str2 = str1\n",
    "print(str1 is str2)\n",
    "print(id(str1))\n",
    "print(id(str2))"
   ]
  },
  {
   "cell_type": "code",
   "execution_count": null,
   "metadata": {},
   "outputs": [],
   "source": [
    "# chr to ascii viceversa\n",
    "a = 'a'\n",
    "print(ord(a))\n",
    "b = 65\n",
    "print(chr(b))"
   ]
  },
  {
   "cell_type": "code",
   "execution_count": null,
   "metadata": {},
   "outputs": [],
   "source": [
    "import copy\n",
    "\n",
    "old_list = [[1, 1, 1], [2, 2, 2], [3, 3, 3]]\n",
    "new_list = copy.copy(old_list)\n",
    "\n",
    "new_list.append([4, 4, 4])\n",
    "\n",
    "print(\"Old list:\", old_list)\n",
    "print(\"New list:\", new_list)"
   ]
  },
  {
   "cell_type": "code",
   "execution_count": null,
   "metadata": {},
   "outputs": [],
   "source": [
    "import copy\n",
    "\n",
    "old_list = [[1, 1, 1], [2, 2, 2], [3, 3, 3]]\n",
    "new_list = copy.deepcopy(old_list)\n",
    "\n",
    "old_list.append([4, 4, 4])\n",
    "\n",
    "print(\"Old list:\", old_list)\n",
    "print(\"New list:\", new_list)"
   ]
  },
  {
   "cell_type": "code",
   "execution_count": null,
   "metadata": {},
   "outputs": [],
   "source": [
    "s1 = {1,2,3,4}\n",
    "s2 = {2,3,4,5,6}\n",
    "s3 = s1.union(s2)\n",
    "print(s3)"
   ]
  },
  {
   "cell_type": "code",
   "execution_count": null,
   "metadata": {},
   "outputs": [],
   "source": [
    "s1 = frozenset({1,2,3,4})"
   ]
  },
  {
   "cell_type": "code",
   "execution_count": null,
   "metadata": {},
   "outputs": [],
   "source": [
    "print(\"\"\"          Hi\n",
    "    this is \n",
    "                      prashanth\n",
    "        \"\"\")"
   ]
  },
  {
   "cell_type": "code",
   "execution_count": null,
   "metadata": {},
   "outputs": [],
   "source": [
    "print(\"   a\")"
   ]
  },
  {
   "cell_type": "code",
   "execution_count": 6,
   "metadata": {},
   "outputs": [],
   "source": [
    "d = {\"a\":[\"1\",\"2\",\"3\"],\"r\":[\"5\",\"6\",\"7\",\"8\"],\"m\":[\"9\",\"1\",\"11\",\"2\",\"50\"]}"
   ]
  },
  {
   "cell_type": "code",
   "execution_count": 7,
   "metadata": {},
   "outputs": [],
   "source": [
    "dk = list(d.keys())"
   ]
  },
  {
   "cell_type": "code",
   "execution_count": 8,
   "metadata": {},
   "outputs": [],
   "source": [
    "dv = list(d.values())"
   ]
  },
  {
   "cell_type": "code",
   "execution_count": 9,
   "metadata": {},
   "outputs": [
    {
     "name": "stdout",
     "output_type": "stream",
     "text": [
      "[['1', '2', '3'], ['5', '6', '7', '8'], ['9', '1', '11', '2', '50']]\n"
     ]
    }
   ],
   "source": [
    "print(dv)"
   ]
  },
  {
   "cell_type": "code",
   "execution_count": 10,
   "metadata": {},
   "outputs": [],
   "source": [
    "\n",
    "def insert(dk,dv):\n",
    "    i = int(input(\">>> \")) #input\n",
    "    print(\"\\tYou are editing\",dk[i-1])\n",
    "    dv = dv[i-1]\n",
    "    while True:\n",
    "        \n",
    "        print(\"\\t(i) nsert a value\")\n",
    "        print(\"\\t(m) odify a value\")\n",
    "        print(\"\\t(d) elete a value\")\n",
    "        print(\"\\t(f) inish editing\")\n",
    "        cond = input(\">>> \")\n",
    "        \n",
    "        if cond == \"i\":\n",
    "            print(\"You are inserting a value in\",dk[i-1])\n",
    "            print(\"Where will you insert a value?\")\n",
    "            for i in range(1,len(dv)+3):\n",
    "                if i == 1:\n",
    "                    print(\"1. At the Beginning\")\n",
    "                elif i>1 and i<(len(dv)+1):\n",
    "                    print(\"{}. Between\".format(i),dv[i-2],\"and\",dv[i-1])\n",
    "                elif i == (len(dv)+1):\n",
    "                    print(\"{}. At the end\".format(i))\n",
    "                elif i == (len(dv)+2):\n",
    "                    print(\"{}. Cancel insert\".format(i))\n",
    "            ind = int(input(\">>> \"))\n",
    "            print(\"You are inserting at location {}\".format(ind), \"between\",dv[ind-2],\"and\",dv[ind-1])\n",
    "            val = input(\"Enter the value to insert: \")\n",
    "            dv = dv.insert(ind-1,val)\n",
    "            print(\"You have inserted {}\".format(val))\n",
    "            "
   ]
  },
  {
   "cell_type": "code",
   "execution_count": null,
   "metadata": {},
   "outputs": [
    {
     "name": "stdout",
     "output_type": "stream",
     "text": [
      ">>> 1\n",
      "\tYou are editing a\n",
      "\t(i) nsert a value\n",
      "\t(m) odify a value\n",
      "\t(d) elete a value\n",
      "\t(f) inish editing\n",
      ">>> i\n",
      "You are inserting a value in a\n",
      "Where will you insert a value?\n",
      "1. At the Beginning\n",
      "2. Between 1 and 2\n",
      "3. Between 2 and 3\n",
      "4. At the end\n",
      "5. Cancel insert\n",
      ">>> 3\n",
      "You are inserting at location 3 between 2 and 3\n"
     ]
    }
   ],
   "source": [
    "insert(dk,dv)"
   ]
  },
  {
   "cell_type": "code",
   "execution_count": null,
   "metadata": {},
   "outputs": [],
   "source": [
    "l = [1,2,3,4,5]\n",
    "l.insert(1,20)\n",
    "print(l)"
   ]
  },
  {
   "cell_type": "code",
   "execution_count": null,
   "metadata": {},
   "outputs": [],
   "source": []
  }
 ],
 "metadata": {
  "kernelspec": {
   "display_name": "Python 3",
   "language": "python",
   "name": "python3"
  },
  "language_info": {
   "codemirror_mode": {
    "name": "ipython",
    "version": 3
   },
   "file_extension": ".py",
   "mimetype": "text/x-python",
   "name": "python",
   "nbconvert_exporter": "python",
   "pygments_lexer": "ipython3",
   "version": "3.7.6"
  }
 },
 "nbformat": 4,
 "nbformat_minor": 4
}
