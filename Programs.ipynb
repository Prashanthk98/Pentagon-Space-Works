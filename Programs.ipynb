{
 "cells": [
  {
   "cell_type": "code",
   "execution_count": null,
   "metadata": {},
   "outputs": [],
   "source": [
    "#Calculate the Average of Numbers in a Given List\n",
    "try:\n",
    "    n = int(input(\"Enter the no. of elements to find the average: \"))\n",
    "except:\n",
    "    print(\"You must enter a Number\")\n",
    "l = []\n",
    "try:\n",
    "    for i in range(n):\n",
    "        num = int(input(\"Enter the {}th Number\".format(i)))\n",
    "        l.append(num)\n",
    "    print(l)\n",
    "except:\n",
    "    print(\"You must enter a Number\")\n",
    "def avg(x):\n",
    "    e = 0\n",
    "    for i in range(len(x)):\n",
    "        e = x[i]+e\n",
    "    print(e)\n",
    "    avg = e//len(l)\n",
    "    print(avg)\n",
    "    print(\"The average of Numbers in the list is: {}\".format(avg))\n",
    "try:\n",
    "    avg(l)\n",
    "except:\n",
    "    print(\"Not possible\")"
   ]
  },
  {
   "cell_type": "code",
   "execution_count": null,
   "metadata": {},
   "outputs": [],
   "source": [
    "#Exchange the Values of Two Numbers Without Using a Temporary Variable\n",
    "try:\n",
    "    a = int(input(\"Enter the first Number\"))\n",
    "    b = int(input(\"Enter the Second Number\"))\n",
    "    print()\n",
    "    print(\"Before swapping: \\na = {}, b = {}\".format(a,b))\n",
    "    print()\n",
    "except:\n",
    "    print(\"Enter a number\")\n",
    "\n",
    "def swap(a,b):\n",
    "    c = a+b\n",
    "    b = c-b\n",
    "    a = c-a\n",
    "    print(\"After swapping the values in varibles are: \\na = {}, b = {}\".format(a,b))\n",
    "try:\n",
    "    swap(a,b)\n",
    "except:\n",
    "    print(\"Not possible to exchange\")"
   ]
  },
  {
   "cell_type": "code",
   "execution_count": null,
   "metadata": {},
   "outputs": [],
   "source": [
    "#Read a Number n and Compute n+nn+nnn\n",
    "n = int(input(\"Enter a number\"))\n",
    "def equ(n):\n",
    "    t1 = n+n\n",
    "    t2 = t1+n\n",
    "    tot = n+t1+t2\n",
    "    print(\"The value is: \",tot)\n",
    "equ(n)"
   ]
  },
  {
   "cell_type": "code",
   "execution_count": null,
   "metadata": {},
   "outputs": [],
   "source": [
    "#Check Whether a Number is Positive or Negative\n",
    "a = int(input(\"Enter a number +ve, -ve or 0? \"))\n",
    "if(a < 0):\n",
    "    print(\"Negative Number\")\n",
    "elif(a > 0):\n",
    "    print(\"Positive Number\")\n",
    "else:\n",
    "    print(\"Whole Number\")"
   ]
  },
  {
   "cell_type": "code",
   "execution_count": 31,
   "metadata": {},
   "outputs": [
    {
     "name": "stdout",
     "output_type": "stream",
     "text": [
      "Enter marks of Subject 1: 2\n",
      "Enter marks of Subject 2: 5\n",
      "Enter marks of Subject 3: 5\n",
      "Enter marks of Subject 4: 5\n",
      "Enter marks of Subject 5: 5\n"
     ]
    },
    {
     "data": {
      "text/html": [
       "<div>\n",
       "<style scoped>\n",
       "    .dataframe tbody tr th:only-of-type {\n",
       "        vertical-align: middle;\n",
       "    }\n",
       "\n",
       "    .dataframe tbody tr th {\n",
       "        vertical-align: top;\n",
       "    }\n",
       "\n",
       "    .dataframe thead th {\n",
       "        text-align: right;\n",
       "    }\n",
       "</style>\n",
       "<table border=\"1\" class=\"dataframe\">\n",
       "  <thead>\n",
       "    <tr style=\"text-align: right;\">\n",
       "      <th></th>\n",
       "      <th>Subjects</th>\n",
       "      <th>Marks</th>\n",
       "      <th>Grades</th>\n",
       "    </tr>\n",
       "  </thead>\n",
       "  <tbody>\n",
       "    <tr>\n",
       "      <th>0</th>\n",
       "      <td>[Subject 1, Subject 2, Subject 3, Subject 4, S...</td>\n",
       "      <td>[2, 5, 5, 5, 5]</td>\n",
       "      <td>[F, F, F, F, F]</td>\n",
       "    </tr>\n",
       "  </tbody>\n",
       "</table>\n",
       "</div>"
      ],
      "text/plain": [
       "                                            Subjects            Marks  \\\n",
       "0  [Subject 1, Subject 2, Subject 3, Subject 4, S...  [2, 5, 5, 5, 5]   \n",
       "\n",
       "            Grades  \n",
       "0  [F, F, F, F, F]  "
      ]
     },
     "execution_count": 31,
     "metadata": {},
     "output_type": "execute_result"
    }
   ],
   "source": [
    "#Take in the Marks of 5 Subjects and Display the Grade\n",
    "l = []\n",
    "\n",
    "for i in range(1,6):\n",
    "    n = int(input(\"Enter marks of Subject {}: \".format(i)))\n",
    "    l.append(n)\n",
    "l1 = [\"Subject 1\",\"Subject 2\",\"Subject 3\",\"Subject 4\",\"Subject 5\"]\n",
    "dic = {\"Subjects\":[],\"Marks\":[],\"Grades\":[]}\n",
    "m = []\n",
    "\n",
    "for i in range(len(l)):\n",
    "    if(l[i]<50):\n",
    "        m.append(\"F\")\n",
    "    elif(l[i]<60):\n",
    "        m.append(\"E\")\n",
    "    elif(l[i]<70):\n",
    "        m.append(\"D\")\n",
    "    elif(l[i]<80):\n",
    "        m.append(\"C\")\n",
    "    elif(l[i]<90):\n",
    "        m.append(\"B\")\n",
    "    else:\n",
    "        m.append(\"A\")\n",
    "        \n",
    "\n",
    "dic[\"Subjects\"].append(l1)\n",
    "dic[\"Marks\"].append(l)\n",
    "dic[\"Grades\"].append(m)\n",
    "import pandas as pd\n",
    "#for keys,values in dic.items():\n",
    "#   print(keys, values)\n",
    "df = pd.DataFrame(dic)\n",
    "df"
   ]
  },
  {
   "cell_type": "code",
   "execution_count": null,
   "metadata": {},
   "outputs": [],
   "source": []
  },
  {
   "cell_type": "code",
   "execution_count": null,
   "metadata": {},
   "outputs": [],
   "source": []
  }
 ],
 "metadata": {
  "kernelspec": {
   "display_name": "Python 3",
   "language": "python",
   "name": "python3"
  },
  "language_info": {
   "codemirror_mode": {
    "name": "ipython",
    "version": 3
   },
   "file_extension": ".py",
   "mimetype": "text/x-python",
   "name": "python",
   "nbconvert_exporter": "python",
   "pygments_lexer": "ipython3",
   "version": "3.7.6"
  }
 },
 "nbformat": 4,
 "nbformat_minor": 4
}
