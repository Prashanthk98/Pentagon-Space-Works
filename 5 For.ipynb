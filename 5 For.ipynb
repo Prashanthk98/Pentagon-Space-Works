{
 "cells": [
  {
   "cell_type": "code",
   "execution_count": null,
   "metadata": {},
   "outputs": [],
   "source": [
    "\n",
    "def format_percentage(n):\n",
    "  res=\"'{:.2f}%'\".format(n*100)\n",
    "  print(res)\n",
    "x=float(input())\n",
    "format_percentage(x)\n",
    "\n",
    "def cal_discount(price):\n",
    "  return(price-0.25*price)\n",
    "def format_currency(number):\n",
    "  return(\"${:.2f}\".format(number))\n",
    "if __name__==\"__main__\":\n",
    "  price = (int(input(\"enter the price\")))\n",
    "  dis = cal_discount(price)\n",
    "  print(format_currency(dis))\n",
    "\n",
    "n=int(input(\"Enter the number of players\"))\n",
    "l = []\n",
    "for i in range(n):\n",
    "  a=int(input(\"Enter the score of player\"))\n",
    "  l.append(a)\n",
    "grt = 0\n",
    "for i in range(0, len(l)):\n",
    "  if(grt<l[i]):\n",
    "    grt=l[i]\n",
    "print(grt)\n",
    "\n",
    "x = int(input(\"enter the number of members\"))\n",
    "y = []\n",
    "z = []\n",
    "for i in range(x):\n",
    "  k = input(\"enter the name of members\")\n",
    "  y.append(k)\n",
    "print(x,y)\n",
    "\n",
    "N = int(input(\"enter the number of subjects\"))\n",
    "n = []\n",
    "for i in range(N):\n",
    "  n = i\n",
    "for i in range(0,i):\n",
    "  for j in range(j+1,i):\n",
    "    c=int(input(\"enter the marks\"))\n",
    "    n.append(c)\n",
    "print(\" \",end=\"\")\n",
    "print(c)"
   ]
  }
 ],
 "metadata": {
  "kernelspec": {
   "display_name": "Python 3",
   "language": "python",
   "name": "python3"
  },
  "language_info": {
   "codemirror_mode": {
    "name": "ipython",
    "version": 3
   },
   "file_extension": ".py",
   "mimetype": "text/x-python",
   "name": "python",
   "nbconvert_exporter": "python",
   "pygments_lexer": "ipython3",
   "version": "3.7.6"
  }
 },
 "nbformat": 4,
 "nbformat_minor": 4
}
