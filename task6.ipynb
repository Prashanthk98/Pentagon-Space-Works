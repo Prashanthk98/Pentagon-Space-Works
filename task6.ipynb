{
 "cells": [
  {
   "cell_type": "code",
   "execution_count": 7,
   "metadata": {},
   "outputs": [],
   "source": [
    "g_c = 100\n",
    "\n",
    "class TestClass():\n",
    "    def run(self):\n",
    "        global g_c\n",
    "        print(g_c)"
   ]
  },
  {
   "cell_type": "code",
   "execution_count": 8,
   "metadata": {},
   "outputs": [
    {
     "name": "stdout",
     "output_type": "stream",
     "text": [
      "100\n"
     ]
    }
   ],
   "source": [
    "TestClass().run()"
   ]
  },
  {
   "cell_type": "code",
   "execution_count": 1,
   "metadata": {},
   "outputs": [],
   "source": [
    "import pandas as pd\n",
    "df = pd.read_csv(r'C:\\Users\\johnp\\Django\\GraphProject\\graph\\exampleData.csv')"
   ]
  },
  {
   "cell_type": "code",
   "execution_count": 2,
   "metadata": {},
   "outputs": [
    {
     "data": {
      "text/html": [
       "<div>\n",
       "<style scoped>\n",
       "    .dataframe tbody tr th:only-of-type {\n",
       "        vertical-align: middle;\n",
       "    }\n",
       "\n",
       "    .dataframe tbody tr th {\n",
       "        vertical-align: top;\n",
       "    }\n",
       "\n",
       "    .dataframe thead th {\n",
       "        text-align: right;\n",
       "    }\n",
       "</style>\n",
       "<table border=\"1\" class=\"dataframe\">\n",
       "  <thead>\n",
       "    <tr style=\"text-align: right;\">\n",
       "      <th></th>\n",
       "      <th>Actual Value</th>\n",
       "      <th>Mean Value</th>\n",
       "      <th>Standard Value</th>\n",
       "    </tr>\n",
       "  </thead>\n",
       "  <tbody>\n",
       "    <tr>\n",
       "      <th>0</th>\n",
       "      <td>1</td>\n",
       "      <td>50</td>\n",
       "      <td>20</td>\n",
       "    </tr>\n",
       "    <tr>\n",
       "      <th>1</th>\n",
       "      <td>2</td>\n",
       "      <td>60</td>\n",
       "      <td>50</td>\n",
       "    </tr>\n",
       "    <tr>\n",
       "      <th>2</th>\n",
       "      <td>3</td>\n",
       "      <td>40</td>\n",
       "      <td>40</td>\n",
       "    </tr>\n",
       "    <tr>\n",
       "      <th>3</th>\n",
       "      <td>4</td>\n",
       "      <td>60</td>\n",
       "      <td>30</td>\n",
       "    </tr>\n",
       "    <tr>\n",
       "      <th>4</th>\n",
       "      <td>5</td>\n",
       "      <td>70</td>\n",
       "      <td>50</td>\n",
       "    </tr>\n",
       "    <tr>\n",
       "      <th>5</th>\n",
       "      <td>6</td>\n",
       "      <td>80</td>\n",
       "      <td>80</td>\n",
       "    </tr>\n",
       "    <tr>\n",
       "      <th>6</th>\n",
       "      <td>7</td>\n",
       "      <td>100</td>\n",
       "      <td>40</td>\n",
       "    </tr>\n",
       "    <tr>\n",
       "      <th>7</th>\n",
       "      <td>8</td>\n",
       "      <td>50</td>\n",
       "      <td>100</td>\n",
       "    </tr>\n",
       "    <tr>\n",
       "      <th>8</th>\n",
       "      <td>9</td>\n",
       "      <td>20</td>\n",
       "      <td>40</td>\n",
       "    </tr>\n",
       "    <tr>\n",
       "      <th>9</th>\n",
       "      <td>10</td>\n",
       "      <td>90</td>\n",
       "      <td>40</td>\n",
       "    </tr>\n",
       "    <tr>\n",
       "      <th>10</th>\n",
       "      <td>11</td>\n",
       "      <td>50</td>\n",
       "      <td>20</td>\n",
       "    </tr>\n",
       "    <tr>\n",
       "      <th>11</th>\n",
       "      <td>12</td>\n",
       "      <td>40</td>\n",
       "      <td>60</td>\n",
       "    </tr>\n",
       "  </tbody>\n",
       "</table>\n",
       "</div>"
      ],
      "text/plain": [
       "    Actual Value  Mean Value  Standard Value\n",
       "0              1          50              20\n",
       "1              2          60              50\n",
       "2              3          40              40\n",
       "3              4          60              30\n",
       "4              5          70              50\n",
       "5              6          80              80\n",
       "6              7         100              40\n",
       "7              8          50             100\n",
       "8              9          20              40\n",
       "9             10          90              40\n",
       "10            11          50              20\n",
       "11            12          40              60"
      ]
     },
     "execution_count": 2,
     "metadata": {},
     "output_type": "execute_result"
    }
   ],
   "source": [
    "df"
   ]
  },
  {
   "cell_type": "code",
   "execution_count": 3,
   "metadata": {},
   "outputs": [],
   "source": [
    "Actual_Value = df['Actual Value'].values.tolist()\n",
    "Mean_Value = df['Mean Value'].values.tolist()\n",
    "Standard_Value = df['Standard Value'].values.tolist()"
   ]
  },
  {
   "cell_type": "code",
   "execution_count": 4,
   "metadata": {},
   "outputs": [
    {
     "name": "stdout",
     "output_type": "stream",
     "text": [
      "[1, 2, 3, 4, 5, 6, 7, 8, 9, 10, 11, 12]\n",
      "[50, 60, 40, 60, 70, 80, 100, 50, 20, 90, 50, 40]\n",
      "[20, 50, 40, 30, 50, 80, 40, 100, 40, 40, 20, 60]\n"
     ]
    }
   ],
   "source": [
    "print(Actual_Value)\n",
    "print(Mean_Value)\n",
    "print(Standard_Value)"
   ]
  },
  {
   "cell_type": "markdown",
   "metadata": {},
   "source": [
    "[(3, 'c', 6, '7d3'),\n",
    "\t(2, 2),\n",
    "\t(134, '23d4', 34,45)]\n",
    "\n",
    "\tOutput:\n",
    "\n",
    "\t(139, 42, 45)"
   ]
  },
  {
   "cell_type": "code",
   "execution_count": 30,
   "metadata": {},
   "outputs": [],
   "source": [
    "l = [(3, 'c', 6, '7d3'), (2, 2), (134, '23d4', 34,45)]\n",
    "a,b,c = list(l[0]),list(l[1]),list(l[2])"
   ]
  },
  {
   "cell_type": "code",
   "execution_count": 33,
   "metadata": {},
   "outputs": [],
   "source": [
    "a1 = list(filter(lambda x:type(x)==int, a))\n",
    "b1 = list(filter(lambda x:type(x)==int, b))\n",
    "c1 = list(filter(lambda x:type(x)==int, c))"
   ]
  },
  {
   "cell_type": "code",
   "execution_count": 34,
   "metadata": {},
   "outputs": [
    {
     "name": "stdout",
     "output_type": "stream",
     "text": [
      "[3, 6]\n",
      "[2, 2]\n",
      "[134, 34, 45]\n"
     ]
    }
   ],
   "source": [
    "print(a1)\n",
    "print(b1)\n",
    "print(c1)"
   ]
  },
  {
   "cell_type": "code",
   "execution_count": 42,
   "metadata": {},
   "outputs": [],
   "source": [
    "from itertools import zip_longest"
   ]
  },
  {
   "cell_type": "code",
   "execution_count": 43,
   "metadata": {},
   "outputs": [
    {
     "name": "stdout",
     "output_type": "stream",
     "text": [
      "(139, 42, 45)\n"
     ]
    }
   ],
   "source": [
    "res = tuple(map(sum,zip_longest(a1,b1,c1,fillvalue=0)))\n",
    "print(res)"
   ]
  },
  {
   "cell_type": "code",
   "execution_count": null,
   "metadata": {},
   "outputs": [],
   "source": [
    "def sumOf(b):\n",
    "  return (b[i]+b[i-1])/2\n",
    "  return float(b)\n",
    "a=int (input())\n",
    "b=[]\n",
    "for i in range(a):\n",
    "  c=int(input(\"enter the scores\"))\n",
    "  b.append(c)\n",
    "  b.sort()\n",
    "print(b)\n",
    "print(sumOf(b))\n",
    "\n",
    "def average_tuple(nums):\n",
    "    return [sum(x) / len(x) for x in zip(*((10, 10, 10, 12), (30, 45, 45), (81,32), (1, 2, 3, 4)))]\n",
    "print(average_tuple(nums))\n",
    "\n",
    "l = [(10, 20, 40), (40, 50, 60), (70, 80, 90)]\n",
    "print([t[:-1] + (100,) for t in l])"
   ]
  },
  {
   "cell_type": "code",
   "execution_count": null,
   "metadata": {},
   "outputs": [],
   "source": [
    "l=[5,7]\n",
    "try:\n",
    "  print([x for x in range(min(l),max(l)) if x not in l])\n",
    "except Exception as valueerror:\n",
    "  if(l<min(l) and l>max(l)):\n",
    "    raise valueerror\n",
    "\n",
    "str1 = \"Hello Hello How are You Hello\"\n",
    "str2 = str1.split()\n",
    "count = 0\n",
    "d = { }\n",
    "for data in str2:\n",
    "  d[data] = count\n",
    "  count += 1\n",
    "\n",
    "print(d)"
   ]
  }
 ],
 "metadata": {
  "kernelspec": {
   "display_name": "Python 3",
   "language": "python",
   "name": "python3"
  },
  "language_info": {
   "codemirror_mode": {
    "name": "ipython",
    "version": 3
   },
   "file_extension": ".py",
   "mimetype": "text/x-python",
   "name": "python",
   "nbconvert_exporter": "python",
   "pygments_lexer": "ipython3",
   "version": "3.7.6"
  }
 },
 "nbformat": 4,
 "nbformat_minor": 4
}
