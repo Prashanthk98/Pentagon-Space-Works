{
 "cells": [
  {
   "cell_type": "code",
   "execution_count": null,
   "metadata": {},
   "outputs": [],
   "source": [
    "\n",
    "def gender_bot(name):\n",
    "    distinct = set(name)\n",
    "    lst = [letter for letter in distinct]\n",
    "    if len(lst)%2==0:\n",
    "        print(\"CHAT WITH HER!\")\n",
    "    else:\n",
    "        print(\"IGNORE HIM!\")\n",
    "for i in range(3):\n",
    "    n = input(\"Enter the Name: \").lower()\n",
    "    gender_bot(n)\n",
    "    print()"
   ]
  },
  {
   "cell_type": "code",
   "execution_count": null,
   "metadata": {},
   "outputs": [],
   "source": [
    "score_card = 'wwww611w16w6'\n",
    "\n",
    "player_names = [chr(x) for x in range(65,(65+11))]\n",
    "scores = []\n",
    "for i in score_card:\n",
    "    if i == \".\":\n",
    "        scores.append(i)\n",
    "    elif i == 'w':\n",
    "        scores.append(i)\n",
    "    else:\n",
    "        scores.append(int(i))\n",
    "d = {}\n",
    "w = 0\n",
    "for i in player_names:\n",
    "    d[i] = 0\n",
    "player = [player_names[0],player_names[1]]\n",
    "balls = 0\n",
    "\n",
    "def over(balls):\n",
    "    over = [i*6 for i in range(1,11)]\n",
    "    if balls in over:\n",
    "        player[0],player[1] = player[1],player[0]\n",
    "        balls = 0\n",
    "for i in scores: \n",
    "    balls = balls + 1    \n",
    "    if i == '.':\n",
    "        over(balls)\n",
    "        continue\n",
    "    elif i == 1 or i == 3:\n",
    "        d[player[0]] = d[player[0]] + i\n",
    "        player = [player[(i + 3) % len(player)]\n",
    "               for i, x in enumerate(player)]\n",
    "        over(balls)\n",
    "    elif i == 2 or i == 6:\n",
    "        d[player[0]] = d[player[0]] + i \n",
    "        over(balls)\n",
    "    elif i == 'w':\n",
    "        over(balls)\n",
    "        if d[player[0]] == 0:\n",
    "            d[player[0]] = 'w'\n",
    "        w = w+1\n",
    "        if w<=9: \n",
    "            player[0] = player_names[player_names.index(max(player))+1]\n",
    "        else:\n",
    "            break\n",
    "print(scores)\n",
    "print(count)\n",
    "print(w)      \n",
    "print(d)"
   ]
  },
  {
   "cell_type": "code",
   "execution_count": null,
   "metadata": {},
   "outputs": [],
   "source": [
    "print(player)"
   ]
  },
  {
   "cell_type": "code",
   "execution_count": null,
   "metadata": {},
   "outputs": [],
   "source": [
    "for i in d:\n",
    "    if d[i] != 0 or i in player:\n",
    "        if d[i] == 'w':\n",
    "            print(i, 0, \"Duck Out!\")\n",
    "        elif i == player[0] or i == player[1]:\n",
    "            print(i, d[i], \"Not Out\")\n",
    "        else:\n",
    "            print(i, d[i])\n",
    "    elif d[i] == 0 and i not in player:\n",
    "        print(i, '-')\n",
    "print(\"TOTAL\", sum(filter(lambda x: x!='w', d.values())))"
   ]
  },
  {
   "cell_type": "code",
   "execution_count": 5,
   "metadata": {},
   "outputs": [
    {
     "name": "stdout",
     "output_type": "stream",
     "text": [
      "4\n",
      "9 5 4 8\n",
      "2 6 10 9\n",
      "10 2 5 10\n",
      "10 9 9 9\n",
      "1\n",
      "4\n",
      "0\n",
      "8\n"
     ]
    }
   ],
   "source": [
    "test=int(input())\n",
    "l=[]\n",
    "for i in range(test):\n",
    "    p,a,b,c=input().split()\n",
    "    p=int(p)\n",
    "    a=int(a)\n",
    "    b=int(b)\n",
    "    c=int(c)\n",
    "   \n",
    "    while True:\n",
    "        if (p<=a) or (p<=b) or (p<=c) :\n",
    "            a=abs(a-p)\n",
    "            b=abs(b-p)\n",
    "            c=abs(c-p)\n",
    "            d=min(a,b,c)\n",
    "            l.append(d)\n",
    "            break\n",
    "        else:\n",
    "            a+=a\n",
    "            b+=b\n",
    "            c+=c\n",
    "for i in l:\n",
    "    print(i)\n"
   ]
  },
  {
   "cell_type": "code",
   "execution_count": null,
   "metadata": {},
   "outputs": [],
   "source": [
    "inp = input().split()\n",
    "mine,a,b,c = int(inp[0]),int(inp[1]),int(inp[2]),int(inp[3])\n",
    "def shotest_time(m,a,b,c):\n",
    "    a+=a\n",
    "    b+=b\n",
    "    c+=c\n",
    "    \n"
   ]
  },
  {
   "cell_type": "code",
   "execution_count": null,
   "metadata": {},
   "outputs": [],
   "source": []
  }
 ],
 "metadata": {
  "kernelspec": {
   "display_name": "Python 3",
   "language": "python",
   "name": "python3"
  },
  "language_info": {
   "codemirror_mode": {
    "name": "ipython",
    "version": 3
   },
   "file_extension": ".py",
   "mimetype": "text/x-python",
   "name": "python",
   "nbconvert_exporter": "python",
   "pygments_lexer": "ipython3",
   "version": "3.7.6"
  }
 },
 "nbformat": 4,
 "nbformat_minor": 4
}
