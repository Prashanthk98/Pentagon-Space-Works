{
 "cells": [
  {
   "cell_type": "markdown",
   "metadata": {},
   "source": [
    "#### 1.print the sum and product from 1 to 20"
   ]
  },
  {
   "cell_type": "code",
   "execution_count": 5,
   "metadata": {},
   "outputs": [
    {
     "name": "stdout",
     "output_type": "stream",
     "text": [
      "20\n",
      "20\n"
     ]
    }
   ],
   "source": [
    "for i in range(1,21):\n",
    "    s = 0\n",
    "    mul = 1\n",
    "    s = s+i\n",
    "    mul = mul*i\n",
    "print(s)\n",
    "print(mul)"
   ]
  },
  {
   "cell_type": "markdown",
   "metadata": {},
   "source": [
    "#### 3.print even numbers between 1 and 20"
   ]
  },
  {
   "cell_type": "code",
   "execution_count": 19,
   "metadata": {},
   "outputs": [
    {
     "name": "stdout",
     "output_type": "stream",
     "text": [
      "[1, 2, 3, 4, 5, 6, 7, 8, 9, 10, 11, 12, 13, 14, 15, 16, 17, 18, 19, 20]\n",
      "[2, 4, 6, 8, 10, 12, 14, 16, 18, 20]\n"
     ]
    }
   ],
   "source": [
    "l = []\n",
    "for i in range(1,21):\n",
    "    l.append(i)\n",
    "print(l)\n",
    "e = list(filter(lambda x: (x%2==0), l))\n",
    "print(e)"
   ]
  },
  {
   "cell_type": "code",
   "execution_count": 11,
   "metadata": {},
   "outputs": [
    {
     "name": "stdout",
     "output_type": "stream",
     "text": [
      "Original arrays:\n",
      "[1, 2, 3, 5, 7, 8, 9, 10]\n",
      "\n",
      "Number of even numbers in the above array:  [2, 8, 10]\n",
      "\n",
      "Number of odd numbers in the above array:  [1, 3, 5, 7, 9]\n"
     ]
    }
   ],
   "source": [
    "array_nums = [1, 2, 3, 5, 7, 8, 9, 10]\n",
    "print(\"Original arrays:\")\n",
    "print(array_nums)\n",
    "odd_ctr = list(filter(lambda x: (x%2 != 0) , array_nums))\n",
    "even_ctr = list(filter(lambda x: (x%2 == 0) , array_nums))\n",
    "print(\"\\nNumber of even numbers in the above array: \", even_ctr)\n",
    "print(\"\\nNumber of odd numbers in the above array: \", odd_ctr)\n"
   ]
  },
  {
   "cell_type": "code",
   "execution_count": null,
   "metadata": {},
   "outputs": [],
   "source": []
  }
 ],
 "metadata": {
  "kernelspec": {
   "display_name": "Python 3",
   "language": "python",
   "name": "python3"
  },
  "language_info": {
   "codemirror_mode": {
    "name": "ipython",
    "version": 3
   },
   "file_extension": ".py",
   "mimetype": "text/x-python",
   "name": "python",
   "nbconvert_exporter": "python",
   "pygments_lexer": "ipython3",
   "version": "3.7.6"
  }
 },
 "nbformat": 4,
 "nbformat_minor": 4
}
